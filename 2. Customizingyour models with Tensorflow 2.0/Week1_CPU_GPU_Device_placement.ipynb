{
 "cells": [
  {
   "cell_type": "markdown",
   "metadata": {
    "id": "R8EuPVDK0oXX"
   },
   "source": [
    "# Device placement\n"
   ]
  },
  {
   "cell_type": "markdown",
   "metadata": {
    "id": "SMepbBP-0oXb"
   },
   "source": [
    "In this reading, we are going to be looking at device placement. We will see how to access the device associated to a given tensor, and compare the use of GPUs and CPUs.\n",
    "\n",
    "When running this notebook, ensure that the GPU runtime type is selected (Runtime -> Change runtime type)."
   ]
  },
  {
   "cell_type": "code",
   "execution_count": 1,
   "metadata": {
    "colab": {
     "base_uri": "https://localhost:8080/"
    },
    "id": "cGJhiWHQ0oXd",
    "outputId": "c1ab2562-1d51-4416-b582-0733b72aa5d9"
   },
   "outputs": [
    {
     "name": "stderr",
     "output_type": "stream",
     "text": [
      "C:\\Users\\omkar.karve\\AppData\\Roaming\\Python\\Python37\\site-packages\\requests\\__init__.py:80: RequestsDependencyWarning: urllib3 (1.26.2) or chardet (3.0.4) doesn't match a supported version!\n",
      "  RequestsDependencyWarning)\n"
     ]
    },
    {
     "name": "stdout",
     "output_type": "stream",
     "text": [
      "2.1.0\n"
     ]
    }
   ],
   "source": [
    "#! pip install tensorflow==2.1.0\n",
    "import tensorflow as tf\n",
    "print(tf.__version__)"
   ]
  },
  {
   "cell_type": "code",
   "execution_count": 2,
   "metadata": {},
   "outputs": [],
   "source": [
    "# This is needed to run on Windows 10 laptop with Cuda\n",
    "from tensorflow.compat.v1 import InteractiveSession # This is needed to run on Windows 10 laptop with Cuda\n",
    "config = tf.compat.v1.ConfigProto()\n",
    "config.gpu_options.allow_growth = True\n",
    "session = InteractiveSession(config=config)"
   ]
  },
  {
   "cell_type": "markdown",
   "metadata": {
    "id": "o07Lk8BE27-6"
   },
   "source": [
    "## Get the physical devices"
   ]
  },
  {
   "cell_type": "markdown",
   "metadata": {
    "id": "bw5wPXyy2Zwp"
   },
   "source": [
    "First, we can list the physical devices available."
   ]
  },
  {
   "cell_type": "code",
   "execution_count": 3,
   "metadata": {
    "colab": {
     "base_uri": "https://localhost:8080/"
    },
    "id": "rB-00SsB2Z8v",
    "outputId": "e76e3519-7650-4b59-c4ff-45b705cdcd14"
   },
   "outputs": [
    {
     "data": {
      "text/plain": [
       "[PhysicalDevice(name='/physical_device:CPU:0', device_type='CPU'),\n",
       " PhysicalDevice(name='/physical_device:GPU:0', device_type='GPU')]"
      ]
     },
     "execution_count": 3,
     "metadata": {},
     "output_type": "execute_result"
    }
   ],
   "source": [
    "# List all physical devices\n",
    "\n",
    "tf.config.list_physical_devices()"
   ]
  },
  {
   "cell_type": "markdown",
   "metadata": {
    "id": "GBfa_PEw0oXk"
   },
   "source": [
    "If you have enabled the GPU runtime, then you should see the GPU device in the above list.\n",
    "\n",
    "We can also check specifically for the GPU or CPU devices."
   ]
  },
  {
   "cell_type": "code",
   "execution_count": 4,
   "metadata": {
    "colab": {
     "base_uri": "https://localhost:8080/"
    },
    "id": "2FgViTqb0oXn",
    "outputId": "653249f0-5764-44ce-d3c8-63a157961751"
   },
   "outputs": [
    {
     "data": {
      "text/plain": [
       "[PhysicalDevice(name='/physical_device:GPU:0', device_type='GPU')]"
      ]
     },
     "execution_count": 4,
     "metadata": {},
     "output_type": "execute_result"
    }
   ],
   "source": [
    "# Check for GPU devices\n",
    "\n",
    "tf.config.list_physical_devices('GPU')"
   ]
  },
  {
   "cell_type": "code",
   "execution_count": 5,
   "metadata": {
    "colab": {
     "base_uri": "https://localhost:8080/"
    },
    "id": "N857-C_B2yMa",
    "outputId": "509127ba-ac9b-471f-d1ef-3842556d5cbf"
   },
   "outputs": [
    {
     "data": {
      "text/plain": [
       "[PhysicalDevice(name='/physical_device:CPU:0', device_type='CPU')]"
      ]
     },
     "execution_count": 5,
     "metadata": {},
     "output_type": "execute_result"
    }
   ],
   "source": [
    "# Check for CPU devices\n",
    "\n",
    "tf.config.list_physical_devices('CPU')"
   ]
  },
  {
   "cell_type": "markdown",
   "metadata": {
    "id": "GStCHnkx0oXs"
   },
   "source": [
    "We can get the GPU device name as follows:"
   ]
  },
  {
   "cell_type": "code",
   "execution_count": 6,
   "metadata": {
    "colab": {
     "base_uri": "https://localhost:8080/",
     "height": 35
    },
    "id": "LlT6kf810oXu",
    "outputId": "b94f9d7d-1362-4022-9001-8cdf87b0201e"
   },
   "outputs": [
    {
     "data": {
      "text/plain": [
       "'/device:GPU:0'"
      ]
     },
     "execution_count": 6,
     "metadata": {},
     "output_type": "execute_result"
    }
   ],
   "source": [
    "# Get the GPU device name\n",
    "\n",
    "tf.test.gpu_device_name()"
   ]
  },
  {
   "cell_type": "markdown",
   "metadata": {
    "id": "4FNvARDH3KlC"
   },
   "source": [
    "## Placement of Tensor operations"
   ]
  },
  {
   "cell_type": "markdown",
   "metadata": {
    "id": "zB7qxgNL0oYA"
   },
   "source": [
    "TensorFlow will automatically allocate Tensor operations to a physical device, and will handle the copying between CPU and GPU memory if necessary. \n",
    "\n",
    "Let's define a random Tensor:"
   ]
  },
  {
   "cell_type": "code",
   "execution_count": 7,
   "metadata": {
    "id": "FQrsztEl0oYB"
   },
   "outputs": [],
   "source": [
    "# Define a Tensor\n",
    "\n",
    "x = tf.random.uniform([3, 3])"
   ]
  },
  {
   "cell_type": "markdown",
   "metadata": {
    "id": "MTni7OPe0oYF"
   },
   "source": [
    "We can see which device this Tensor is placed on using its `device` attribute."
   ]
  },
  {
   "cell_type": "code",
   "execution_count": 8,
   "metadata": {
    "colab": {
     "base_uri": "https://localhost:8080/",
     "height": 35
    },
    "id": "iLSbukXa0oYH",
    "outputId": "8f1cb823-236f-47a5-9866-d9dedd0ffa88"
   },
   "outputs": [
    {
     "data": {
      "text/plain": [
       "'/job:localhost/replica:0/task:0/device:GPU:0'"
      ]
     },
     "execution_count": 8,
     "metadata": {},
     "output_type": "execute_result"
    }
   ],
   "source": [
    "# Get the Tensor device\n",
    "\n",
    "x.device"
   ]
  },
  {
   "cell_type": "markdown",
   "metadata": {
    "id": "8uVDrVK60oYM"
   },
   "source": [
    "The above string will end with `'GPU:K'` if the Tensor is placed on the `K`-th GPU device. We can also check if a tensor is placed on a specific device by using `device_endswith`:"
   ]
  },
  {
   "cell_type": "code",
   "execution_count": 9,
   "metadata": {
    "colab": {
     "base_uri": "https://localhost:8080/"
    },
    "id": "n0ceL5Qy0oYN",
    "outputId": "82b46680-6883-4768-9c62-b5b2f4721437"
   },
   "outputs": [
    {
     "name": "stdout",
     "output_type": "stream",
     "text": [
      "Is the Tensor on CPU #0:  \n",
      "False\n",
      "\n",
      "Is the Tensor on GPU #0:  \n",
      "True\n"
     ]
    }
   ],
   "source": [
    "# Test for device allocation\n",
    "\n",
    "print(\"Is the Tensor on CPU #0:  \"),\n",
    "print(x.device.endswith('CPU:0'))\n",
    "print('')\n",
    "print(\"Is the Tensor on GPU #0:  \"),\n",
    "print(x.device.endswith('GPU:0'))"
   ]
  },
  {
   "cell_type": "markdown",
   "metadata": {
    "id": "GtEi2qnK4LyO"
   },
   "source": [
    "## Specifying device placement"
   ]
  },
  {
   "cell_type": "markdown",
   "metadata": {
    "id": "33SlBwIA0oYQ"
   },
   "source": [
    "As mentioned previously, TensorFlow will automatically allocate Tensor operations to specific devices. However, it is possible to force placement on specific devices, if they are available. \n",
    "\n",
    "We can view the benefits of GPU acceleration by running some tests and placing the operations on the CPU or GPU respectively."
   ]
  },
  {
   "cell_type": "code",
   "execution_count": 10,
   "metadata": {
    "id": "wEfz4RY90oYR"
   },
   "outputs": [],
   "source": [
    "# Define simple tests to time computation speed\n",
    "\n",
    "import time\n",
    "\n",
    "def time_matadd(x):\n",
    "    start = time.time()\n",
    "    for loop in range(10):\n",
    "        tf.add(x, x)\n",
    "    result = time.time()-start\n",
    "    print(\"Matrix addition (10 loops): {:0.2f}ms\".format(1000*result))\n",
    "\n",
    "\n",
    "def time_matmul(x):\n",
    "    start = time.time()\n",
    "    for loop in range(10):\n",
    "        tf.matmul(x, x)\n",
    "    result = time.time()-start\n",
    "    print(\"Matrix multiplication (10 loops): {:0.2f}ms\".format(1000*result))"
   ]
  },
  {
   "cell_type": "markdown",
   "metadata": {
    "id": "wEd85pdw5N6c"
   },
   "source": [
    "In the following cell, we run the above tests inside the context `with tf.device(\"CPU:0\")`, which forces the operations to be run on the CPU."
   ]
  },
  {
   "cell_type": "code",
   "execution_count": 11,
   "metadata": {
    "colab": {
     "base_uri": "https://localhost:8080/"
    },
    "id": "rB5Z1iUT0oYU",
    "outputId": "3e5b2d8d-790a-4259-96b1-446ebf9ee279"
   },
   "outputs": [
    {
     "name": "stdout",
     "output_type": "stream",
     "text": [
      "On CPU:\n",
      "Matrix addition (10 loops): 13.67ms\n",
      "Matrix multiplication (10 loops): 120.11ms\n"
     ]
    }
   ],
   "source": [
    "# Force execution on CPU\n",
    "\n",
    "print(\"On CPU:\")\n",
    "with tf.device(\"CPU:0\"):\n",
    "    x = tf.random.uniform([1000, 1000])\n",
    "    assert x.device.endswith(\"CPU:0\")\n",
    "    time_matadd(x)\n",
    "    time_matmul(x)"
   ]
  },
  {
   "cell_type": "markdown",
   "metadata": {
    "id": "PN3ZHIMD50kB"
   },
   "source": [
    "And now run the same operations on the GPU:"
   ]
  },
  {
   "cell_type": "code",
   "execution_count": null,
   "metadata": {},
   "outputs": [],
   "source": []
  },
  {
   "cell_type": "code",
   "execution_count": 12,
   "metadata": {
    "colab": {
     "base_uri": "https://localhost:8080/"
    },
    "id": "c7AryQq60oYY",
    "outputId": "9d479e04-53d5-4065-e4e0-4b856e66ed65"
   },
   "outputs": [
    {
     "name": "stdout",
     "output_type": "stream",
     "text": [
      "On GPU:\n",
      "Matrix addition (10 loops): 0.00ms\n",
      "Matrix multiplication (10 loops): 313.49ms\n"
     ]
    }
   ],
   "source": [
    "# Force execution on GPU #0 if available\n",
    "\n",
    "if tf.config.experimental.list_physical_devices(\"GPU\"):\n",
    "    print(\"On GPU:\")\n",
    "    with tf.device(\"GPU:0\"): \n",
    "        x = tf.random.uniform([1000, 1000])\n",
    "        assert x.device.endswith(\"GPU:0\")\n",
    "        time_matadd(x)\n",
    "        time_matmul(x)"
   ]
  },
  {
   "cell_type": "markdown",
   "metadata": {
    "id": "bqJR83G354Zh"
   },
   "source": [
    "Note the significant time difference between running these operations on different devices."
   ]
  },
  {
   "cell_type": "markdown",
   "metadata": {
    "id": "hFOJkxMk-HL_"
   },
   "source": [
    "## Model training"
   ]
  },
  {
   "cell_type": "markdown",
   "metadata": {
    "id": "4gBgorhv-HWE"
   },
   "source": [
    "Finally, we will demonstrate that GPU device placement offers speedup benefits for model training."
   ]
  },
  {
   "cell_type": "code",
   "execution_count": 13,
   "metadata": {
    "colab": {
     "base_uri": "https://localhost:8080/"
    },
    "id": "Qa7Vvbne6QS8",
    "outputId": "95acfe0d-1da1-4b7c-adce-e6dc2599a326"
   },
   "outputs": [],
   "source": [
    "# Load the MNIST dataset\n",
    "\n",
    "from tensorflow.keras.datasets import mnist\n",
    "import numpy as np\n",
    "\n",
    "(x_train, y_train), (x_test, y_test) = mnist.load_data()\n",
    "x_train, x_test = x_train/255., x_test/255."
   ]
  },
  {
   "cell_type": "code",
   "execution_count": 14,
   "metadata": {
    "id": "kJgFyw0567Dn"
   },
   "outputs": [],
   "source": [
    "# Reduce the dataset size to speed up the test\n",
    "\n",
    "x_train, y_train = x_train[:1000], y_train[:1000]"
   ]
  },
  {
   "cell_type": "code",
   "execution_count": 15,
   "metadata": {
    "id": "2vD2d7al4_VZ"
   },
   "outputs": [],
   "source": [
    "# Define a function to build the model\n",
    "\n",
    "from tensorflow.keras import layers\n",
    "from tensorflow.keras.models import  Sequential\n",
    "\n",
    "def get_model():\n",
    "  model = Sequential([\n",
    "      layers.Conv2D(32, (3, 3), activation='relu', padding='same', input_shape=(28, 28, 1)),\n",
    "      layers.MaxPooling2D((2, 2)),\n",
    "      layers.Conv2D(64, (3, 3), activation='relu', padding='same'),\n",
    "      layers.MaxPooling2D((2, 2)),\n",
    "      layers.Conv2D(128, (3, 3), activation='relu', padding='same'),\n",
    "      layers.MaxPooling2D((2, 2)),\n",
    "      layers.Flatten(),\n",
    "      layers.Dense(64, activation='relu'),\n",
    "      layers.Dense(10, activation='softmax'),\n",
    "      ])\n",
    "  return model"
   ]
  },
  {
   "cell_type": "code",
   "execution_count": 20,
   "metadata": {
    "colab": {
     "base_uri": "https://localhost:8080/"
    },
    "id": "bxEcTFQb7hRt",
    "outputId": "b996ab92-1950-41cf-e6f4-6234c0a9c8c8"
   },
   "outputs": [
    {
     "name": "stdout",
     "output_type": "stream",
     "text": [
      "CPU training time: 3998.75ms\n"
     ]
    }
   ],
   "source": [
    "# Time a training run on the CPU\n",
    "\n",
    "with tf.device(\"CPU:0\"):\n",
    "  model = get_model()\n",
    "  model.compile(optimizer=tf.keras.optimizers.RMSprop(1e-3), loss='sparse_categorical_crossentropy', metrics=['accuracy'])\n",
    "  start = time.time()\n",
    "  model.fit(x_train[..., np.newaxis], y_train, epochs=5, verbose=0)\n",
    "  result = time.time() - start\n",
    "\n",
    "print(\"CPU training time: {:0.2f}ms\".format(1000 * result))"
   ]
  },
  {
   "cell_type": "code",
   "execution_count": 21,
   "metadata": {
    "colab": {
     "base_uri": "https://localhost:8080/"
    },
    "id": "R9_G4sak5dHB",
    "outputId": "51d20d82-877e-4498-fe48-f12899c7e36d"
   },
   "outputs": [
    {
     "name": "stdout",
     "output_type": "stream",
     "text": [
      "GPU training time: 1780.12ms\n"
     ]
    }
   ],
   "source": [
    "# Time a training run on the GPU\n",
    "\n",
    "with tf.device(\"GPU:0\"):\n",
    "  model = get_model()\n",
    "  model.compile(optimizer=tf.keras.optimizers.RMSprop(1e-3), loss='sparse_categorical_crossentropy', metrics=['accuracy'])\n",
    "  start = time.time()\n",
    "  model.fit(x_train[..., np.newaxis], y_train, epochs=5, verbose=0)\n",
    "  result = time.time() - start\n",
    "\n",
    "print(\"GPU training time: {:0.2f}ms\".format(1000 * result))"
   ]
  },
  {
   "cell_type": "markdown",
   "metadata": {
    "id": "e_O9D-XI0oYa"
   },
   "source": [
    "## Further reading and resources \n",
    "* https://www.tensorflow.org/tutorials/customization/basics#gpu_acceleration"
   ]
  }
 ],
 "metadata": {
  "accelerator": "GPU",
  "colab": {
   "name": "Device placement.ipynb",
   "provenance": []
  },
  "kernelspec": {
   "display_name": "Python 3",
   "language": "python",
   "name": "python3"
  },
  "language_info": {
   "codemirror_mode": {
    "name": "ipython",
    "version": 3
   },
   "file_extension": ".py",
   "mimetype": "text/x-python",
   "name": "python",
   "nbconvert_exporter": "python",
   "pygments_lexer": "ipython3",
   "version": "3.7.7"
  }
 },
 "nbformat": 4,
 "nbformat_minor": 1
}
