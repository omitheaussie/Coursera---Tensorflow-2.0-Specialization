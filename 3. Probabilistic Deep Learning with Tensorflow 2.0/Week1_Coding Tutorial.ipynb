{
 "cells": [
  {
   "cell_type": "code",
   "execution_count": 1,
   "metadata": {},
   "outputs": [
    {
     "name": "stderr",
     "output_type": "stream",
     "text": [
      "C:\\Users\\omkar.karve\\AppData\\Roaming\\Python\\Python37\\site-packages\\requests\\__init__.py:80: RequestsDependencyWarning: urllib3 (1.26.2) or chardet (3.0.4) doesn't match a supported version!\n",
      "  RequestsDependencyWarning)\n"
     ]
    },
    {
     "name": "stdout",
     "output_type": "stream",
     "text": [
      "TF version: 2.1.0\n",
      "TFP version: 0.8.0-rc0\n"
     ]
    }
   ],
   "source": [
    "import tensorflow as tf\n",
    "import tensorflow_probability as tfp\n",
    "tfd = tfp.distributions\n",
    "\n",
    "print(\"TF version:\", tf.__version__)\n",
    "print(\"TFP version:\", tfp.__version__)"
   ]
  },
  {
   "cell_type": "code",
   "execution_count": 2,
   "metadata": {},
   "outputs": [],
   "source": [
    "# Additional imports and setting fixed random seed to have reproducibility\n",
    "\n",
    "import matplotlib.pyplot as plt\n",
    "import numpy as np\n",
    "tf.random.set_seed(123)"
   ]
  },
  {
   "cell_type": "markdown",
   "metadata": {},
   "source": [
    "# Tensorflow Distributions"
   ]
  },
  {
   "cell_type": "markdown",
   "metadata": {},
   "source": [
    "## Coding Tutorials\n",
    "#### 1. [Univariate Distributions](#univariate_distributions)\n",
    "#### 2. [Multivariate Distributions](#multivariate_distributions)\n",
    "#### 3. [The Independent Distribution](#the_independent_distribution)\n",
    "#### 4. [Sampling and log probs](#sampling_and_log_probs)\n",
    "#### 5. [Trainable Distributions](#trainable_distributions)"
   ]
  },
  {
   "cell_type": "markdown",
   "metadata": {},
   "source": [
    "***\n",
    "## Univariate distributions\n",
    "<a id='univariate_distributions'></a>"
   ]
  },
  {
   "cell_type": "code",
   "execution_count": 4,
   "metadata": {},
   "outputs": [
    {
     "data": {
      "text/plain": [
       "<tfp.distributions.Normal 'Normal' batch_shape=[] event_shape=[] dtype=float32>"
      ]
     },
     "execution_count": 4,
     "metadata": {},
     "output_type": "execute_result"
    }
   ],
   "source": [
    "# Create a normal distribution from Tensorflow Distributions\n",
    "normal = tfd.Normal(loc=0, scale=1)\n",
    "normal\n"
   ]
  },
  {
   "cell_type": "code",
   "execution_count": 5,
   "metadata": {},
   "outputs": [
    {
     "data": {
      "text/plain": [
       "<tf.Tensor: shape=(), dtype=float32, numpy=-0.8980837>"
      ]
     },
     "execution_count": 5,
     "metadata": {},
     "output_type": "execute_result"
    }
   ],
   "source": [
    "# Sample from the chosen distribution...\n",
    "normal.sample()\n"
   ]
  },
  {
   "cell_type": "code",
   "execution_count": 6,
   "metadata": {},
   "outputs": [
    {
     "data": {
      "text/plain": [
       "<tf.Tensor: shape=(10,), dtype=float32, numpy=\n",
       "array([ 0.33875433,  0.3449861 , -0.6605785 , -0.28549942,  0.43852386,\n",
       "        0.8288566 , -0.53591555, -0.53534836, -1.0324249 , -2.942705  ],\n",
       "      dtype=float32)>"
      ]
     },
     "execution_count": 6,
     "metadata": {},
     "output_type": "execute_result"
    }
   ],
   "source": [
    "# ... or sample multiple times\n",
    "normal.sample(10)\n"
   ]
  },
  {
   "cell_type": "code",
   "execution_count": 7,
   "metadata": {},
   "outputs": [
    {
     "data": {
      "text/plain": [
       "<tf.Tensor: shape=(), dtype=float32, numpy=0.3989423>"
      ]
     },
     "execution_count": 7,
     "metadata": {},
     "output_type": "execute_result"
    }
   ],
   "source": [
    "# Obtain value of probability's density\n",
    "normal.prob(0)\n"
   ]
  },
  {
   "cell_type": "code",
   "execution_count": 8,
   "metadata": {},
   "outputs": [
    {
     "name": "stdout",
     "output_type": "stream",
     "text": [
      "tf.Tensor(-0.9189385, shape=(), dtype=float32)\n",
      "-0.9189385047916152\n"
     ]
    }
   ],
   "source": [
    "# Obtain value of logprobability\n",
    "print(normal.log_prob(0))\n",
    "import math\n",
    "print(math.log(normal.prob(0)))"
   ]
  },
  {
   "cell_type": "code",
   "execution_count": null,
   "metadata": {},
   "outputs": [],
   "source": [
    "# Verify that this really is the log of the probability\n",
    "\n"
   ]
  },
  {
   "cell_type": "code",
   "execution_count": 9,
   "metadata": {},
   "outputs": [
    {
     "data": {
      "image/png": "[encoded data removed]",
      "text/plain": [
       "<Figure size 432x288 with 1 Axes>"
      ]
     },
     "metadata": {
      "needs_background": "light"
     },
     "output_type": "display_data"
    }
   ],
   "source": [
    "# Plot a histogram, approximating the density\n",
    "\n",
    "plt.hist(normal.sample(10000), bins=50, density=True)\n",
    "plt.show()"
   ]
  },
  {
   "cell_type": "code",
   "execution_count": 10,
   "metadata": {},
   "outputs": [],
   "source": [
    "# Do the same for the exponential distribution\n",
    "\n",
    "exp = tfd.Exponential(rate=1)"
   ]
  },
  {
   "cell_type": "code",
   "execution_count": 11,
   "metadata": {},
   "outputs": [
    {
     "data": {
      "image/png": "[encoded data removed]",
      "text/plain": [
       "<Figure size 432x288 with 1 Axes>"
      ]
     },
     "metadata": {
      "needs_background": "light"
     },
     "output_type": "display_data"
    }
   ],
   "source": [
    "# Sample as before\n",
    "plt.hist(exp.sample(10000), bins=50, density=True)\n",
    "plt.show()\n"
   ]
  },
  {
   "cell_type": "code",
   "execution_count": 12,
   "metadata": {},
   "outputs": [
    {
     "data": {
      "text/plain": [
       "<tf.Tensor: shape=(10,), dtype=float32, numpy=\n",
       "array([0.03463974, 0.3560494 , 1.5253357 , 2.7293916 , 1.5241107 ,\n",
       "       1.5624828 , 0.32680708, 0.6846045 , 0.30692586, 2.707749  ],\n",
       "      dtype=float32)>"
      ]
     },
     "execution_count": 12,
     "metadata": {},
     "output_type": "execute_result"
    }
   ],
   "source": [
    "# Create a Bernoulli distribution (discrete)\n",
    "\n",
    "exp.sample(10)"
   ]
  },
  {
   "cell_type": "code",
   "execution_count": 13,
   "metadata": {},
   "outputs": [
    {
     "data": {
      "text/plain": [
       "<tf.Tensor: shape=(20,), dtype=int32, numpy=array([1, 0, 1, 1, 1, 1, 0, 1, 1, 0, 1, 1, 1, 1, 1, 1, 1, 1, 0, 0])>"
      ]
     },
     "execution_count": 13,
     "metadata": {},
     "output_type": "execute_result"
    }
   ],
   "source": [
    "bern = tfd.Bernoulli(probs=0.8)\n",
    "bern.sample(20)"
   ]
  },
  {
   "cell_type": "code",
   "execution_count": null,
   "metadata": {},
   "outputs": [],
   "source": []
  },
  {
   "cell_type": "code",
   "execution_count": null,
   "metadata": {},
   "outputs": [],
   "source": []
  },
  {
   "cell_type": "code",
   "execution_count": null,
   "metadata": {},
   "outputs": [],
   "source": []
  },
  {
   "cell_type": "code",
   "execution_count": null,
   "metadata": {},
   "outputs": [],
   "source": []
  },
  {
   "cell_type": "markdown",
   "metadata": {},
   "source": [
    "#### A word of caution on discrete distributions"
   ]
  },
  {
   "cell_type": "code",
   "execution_count": 15,
   "metadata": {},
   "outputs": [
    {
     "name": "stdout",
     "output_type": "stream",
     "text": [
      "prob result 0.20000000298023224 for k = 0 \n",
      "prob result 0.4000000059604645 for k = 0.5 \n",
      "prob result 0.800000011920929 for k = 1 \n",
      "prob result 0.04999999701976776 for k = -1 \n"
     ]
    }
   ],
   "source": [
    "# Calculate Bernoulli prob and see that 0.5 and -1 do not give the correct probability!\n",
    "\n",
    "for k in [0,0.5,1,-1]:\n",
    "    print('prob result {} for k = {} '.format(bern.prob(k),k))"
   ]
  },
  {
   "cell_type": "code",
   "execution_count": 16,
   "metadata": {},
   "outputs": [],
   "source": [
    "# Replicate the scores to see what is occurring under the hood\n",
    "\n",
    "def my_bernoulli(p_success, k):\n",
    "    return np.power(p_success,k)*np.power((1-p_success),(1-k))"
   ]
  },
  {
   "cell_type": "code",
   "execution_count": 18,
   "metadata": {},
   "outputs": [
    {
     "name": "stdout",
     "output_type": "stream",
     "text": [
      "prob result 0.19999999999999996 for k = 0 \n",
      "prob result 0.3999999999999999 for k = 0.5 \n",
      "prob result 0.8 for k = 1 \n",
      "prob result 0.049999999999999975 for k = -1 \n"
     ]
    }
   ],
   "source": [
    "# Evaluate it as before\n",
    "\n",
    "for k in [0,0.5,1,-1]:\n",
    "    print('prob result {} for k = {} '.format(my_bernoulli(p_success=0.8,k=k),k))"
   ]
  },
  {
   "cell_type": "markdown",
   "metadata": {},
   "source": [
    "#### Work with batch distributions"
   ]
  },
  {
   "cell_type": "code",
   "execution_count": 19,
   "metadata": {},
   "outputs": [
    {
     "data": {
      "text/plain": [
       "<tfp.distributions.Bernoulli 'Bernoulli' batch_shape=[5] event_shape=[] dtype=int32>"
      ]
     },
     "execution_count": 19,
     "metadata": {},
     "output_type": "execute_result"
    }
   ],
   "source": [
    "# Create a batched Bernoulli distribution\n",
    "\n",
    "bernoulli_batch = tfd.Bernoulli(probs=[0.1, 0.25, 0.5, 0.75, 0.9])\n",
    "bernoulli_batch"
   ]
  },
  {
   "cell_type": "code",
   "execution_count": 20,
   "metadata": {},
   "outputs": [
    {
     "data": {
      "text/plain": [
       "<tf.Tensor: shape=(5, 5), dtype=int32, numpy=\n",
       "array([[0, 0, 1, 0, 1],\n",
       "       [0, 0, 1, 0, 1],\n",
       "       [0, 0, 1, 1, 1],\n",
       "       [0, 0, 1, 1, 1],\n",
       "       [0, 0, 1, 1, 0]])>"
      ]
     },
     "execution_count": 20,
     "metadata": {},
     "output_type": "execute_result"
    }
   ],
   "source": [
    "# Sample from it, noting the shape\n",
    "bernoulli_batch.sample(5)\n"
   ]
  },
  {
   "cell_type": "code",
   "execution_count": 21,
   "metadata": {},
   "outputs": [
    {
     "data": {
      "text/plain": [
       "<tfp.distributions.Bernoulli 'Bernoulli' batch_shape=[1, 3, 2] event_shape=[] dtype=int32>"
      ]
     },
     "execution_count": 21,
     "metadata": {},
     "output_type": "execute_result"
    }
   ],
   "source": [
    "# Use a batch shape with higher rank\n",
    "\n",
    "probs = [[[0.5, 0.5], \n",
    "          [0.8, 0.3], \n",
    "          [0.25, 0.75]]]\n",
    "bernoulli_batch_2D = tfd.Bernoulli(probs=probs)\n",
    "bernoulli_batch_2D"
   ]
  },
  {
   "cell_type": "code",
   "execution_count": 24,
   "metadata": {},
   "outputs": [
    {
     "data": {
      "text/plain": [
       "<tf.Tensor: shape=(4, 1, 3, 2), dtype=int32, numpy=\n",
       "array([[[[0, 1],\n",
       "         [1, 1],\n",
       "         [1, 1]]],\n",
       "\n",
       "\n",
       "       [[[1, 0],\n",
       "         [1, 0],\n",
       "         [0, 1]]],\n",
       "\n",
       "\n",
       "       [[[1, 0],\n",
       "         [1, 1],\n",
       "         [0, 1]]],\n",
       "\n",
       "\n",
       "       [[[1, 1],\n",
       "         [1, 0],\n",
       "         [0, 1]]]])>"
      ]
     },
     "execution_count": 24,
     "metadata": {},
     "output_type": "execute_result"
    }
   ],
   "source": [
    "# Sample from this batch of distributions\n",
    "bernoulli_batch_2D.sample(4)\n"
   ]
  },
  {
   "cell_type": "code",
   "execution_count": 25,
   "metadata": {},
   "outputs": [
    {
     "data": {
      "text/plain": [
       "<tf.Tensor: shape=(1, 3, 2), dtype=float32, numpy=\n",
       "array([[[0.5      , 0.5      ],\n",
       "        [0.2      , 0.6999999],\n",
       "        [0.25     , 0.75     ]]], dtype=float32)>"
      ]
     },
     "execution_count": 25,
     "metadata": {},
     "output_type": "execute_result"
    }
   ],
   "source": [
    "# Determine probabilities from this batch distribution\n",
    "\n",
    "bernoulli_batch_2D.prob([[[1, 0], \n",
    "                         [0, 0], \n",
    "                         [1, 1]]])"
   ]
  },
  {
   "cell_type": "markdown",
   "metadata": {},
   "source": [
    "***\n",
    "<a id='multivariate_distributions'></a>\n",
    "## Multivariate Distributions\n"
   ]
  },
  {
   "cell_type": "markdown",
   "metadata": {},
   "source": [
    "#### Basic multivariate distributions"
   ]
  },
  {
   "cell_type": "code",
   "execution_count": 33,
   "metadata": {},
   "outputs": [
    {
     "data": {
      "text/plain": [
       "<tfp.distributions.MultivariateNormalDiag 'MultivariateNormalDiag' batch_shape=[] event_shape=[2] dtype=float32>"
      ]
     },
     "execution_count": 33,
     "metadata": {},
     "output_type": "execute_result"
    }
   ],
   "source": [
    "# Define 2D multivariate Gaussian with diagonal covariance matrix\n",
    "normal_diag = tfd.MultivariateNormalDiag(loc=[0,1], scale_diag=[1,20])\n",
    "normal_diag2 = tfd.MultivariateNormalDiag(loc=[0,1], scale_diag=[1,2])\n",
    "normal_diag"
   ]
  },
  {
   "cell_type": "code",
   "execution_count": 30,
   "metadata": {},
   "outputs": [
    {
     "data": {
      "text/plain": [
       "<tf.Tensor: shape=(10, 2), dtype=float32, numpy=\n",
       "array([[ -0.8012545 ,  21.774973  ],\n",
       "       [  0.26332977, -20.28108   ],\n",
       "       [ -2.7921855 ,   7.0957584 ],\n",
       "       [  0.9923561 ,  -7.376892  ],\n",
       "       [ -0.54473287,  -8.778331  ],\n",
       "       [  0.70630246,  -5.5969496 ],\n",
       "       [ -1.6264789 , -42.018753  ],\n",
       "       [ -0.2172598 ,  23.429497  ],\n",
       "       [ -0.7626804 ,  -4.7022095 ],\n",
       "       [  0.73075646,  19.173586  ]], dtype=float32)>"
      ]
     },
     "execution_count": 30,
     "metadata": {},
     "output_type": "execute_result"
    }
   ],
   "source": [
    "# Sample from it\n",
    "normal_diag.sample(10)\n"
   ]
  },
  {
   "cell_type": "code",
   "execution_count": 31,
   "metadata": {},
   "outputs": [
    {
     "data": {
      "image/png": "[encoded data removed]",
      "text/plain": [
       "<Figure size 432x288 with 1 Axes>"
      ]
     },
     "metadata": {
      "needs_background": "light"
     },
     "output_type": "display_data"
    }
   ],
   "source": [
    "# Make a plot\n",
    "\n",
    "plt_sample = normal_diag.sample(10000)\n",
    "plt.scatter(plt_sample[:, 0], plt_sample[:, 1], marker='.', alpha=0.05)\n",
    "plt.axis('equal')\n",
    "plt.show()"
   ]
  },
  {
   "cell_type": "code",
   "execution_count": 34,
   "metadata": {},
   "outputs": [
    {
     "data": {
      "image/png": "[encoded data removed]",
      "text/plain": [
       "<Figure size 432x288 with 1 Axes>"
      ]
     },
     "metadata": {
      "needs_background": "light"
     },
     "output_type": "display_data"
    }
   ],
   "source": [
    "# Make a plot\n",
    "\n",
    "plt_sample = normal_diag2.sample(10000)\n",
    "plt.scatter(plt_sample[:, 0], plt_sample[:, 1], marker='.', alpha=0.05)\n",
    "plt.axis('equal')\n",
    "plt.show()"
   ]
  },
  {
   "cell_type": "markdown",
   "metadata": {},
   "source": [
    "#### Batches of multivariate distributions"
   ]
  },
  {
   "cell_type": "code",
   "execution_count": 36,
   "metadata": {},
   "outputs": [
    {
     "data": {
      "text/plain": [
       "<tfp.distributions.MultivariateNormalDiag 'MultivariateNormalDiag' batch_shape=[3] event_shape=[2] dtype=float32>"
      ]
     },
     "execution_count": 36,
     "metadata": {},
     "output_type": "execute_result"
    }
   ],
   "source": [
    "# Create three \"batches\" of multivariate normals\n",
    "\n",
    "normal_diag_batch = tfd.MultivariateNormalDiag(loc=[[0,0],[0,0],[0,0]],\n",
    "                                              scale_diag=[[1,2],[2,1],[2,2]])\n",
    "normal_diag_batch"
   ]
  },
  {
   "cell_type": "code",
   "execution_count": 38,
   "metadata": {},
   "outputs": [
    {
     "data": {
      "text/plain": [
       "<tf.Tensor: shape=(5, 3, 2), dtype=float32, numpy=\n",
       "array([[[-0.5220494 ,  0.28739673],\n",
       "        [ 1.8764452 , -0.32614037],\n",
       "        [-1.994906  ,  1.6687227 ]],\n",
       "\n",
       "       [[-0.31411338, -1.9828315 ],\n",
       "        [ 1.7635764 ,  1.0323026 ],\n",
       "        [-0.2759912 , -1.9862325 ]],\n",
       "\n",
       "       [[-0.27471346, -1.196765  ],\n",
       "        [ 2.0678327 ,  1.506257  ],\n",
       "        [-4.157606  , -2.0932195 ]],\n",
       "\n",
       "       [[-0.07239828, -2.885178  ],\n",
       "        [ 0.28583646, -0.05795049],\n",
       "        [-0.11844406,  0.3776537 ]],\n",
       "\n",
       "       [[ 1.1623441 ,  1.5838233 ],\n",
       "        [ 2.1982353 ,  1.4224832 ],\n",
       "        [-4.1391234 , -1.05817   ]]], dtype=float32)>"
      ]
     },
     "execution_count": 38,
     "metadata": {},
     "output_type": "execute_result"
    }
   ],
   "source": [
    "# Sample from it\n",
    "samples = normal_diag_batch.sample(5)\n",
    "samples #Output is of size samples x batches x event"
   ]
  },
  {
   "cell_type": "code",
   "execution_count": 40,
   "metadata": {},
   "outputs": [
    {
     "data": {
      "text/plain": [
       "<tf.Tensor: shape=(5, 3), dtype=float32, numpy=\n",
       "array([[-2.6776166, -3.0243387, -4.069707 ],\n",
       "       [-3.0718105, -3.4526238, -3.7268329],\n",
       "       [-2.7477887, -4.199921 , -5.932578 ],\n",
       "       [-3.5741765, -2.5429163, -3.243753 ],\n",
       "       [-3.5201082, -4.1467834, -5.50568  ]], dtype=float32)>"
      ]
     },
     "execution_count": 40,
     "metadata": {},
     "output_type": "execute_result"
    }
   ],
   "source": [
    "# Compute log probs\n",
    "\n",
    "normal_diag_batch.log_prob(samples) #output is of size samples x batches"
   ]
  },
  {
   "cell_type": "code",
   "execution_count": 41,
   "metadata": {},
   "outputs": [
    {
     "data": {
      "text/plain": [
       "TensorShape([10000, 3, 2])"
      ]
     },
     "execution_count": 41,
     "metadata": {},
     "output_type": "execute_result"
    }
   ],
   "source": [
    "# Create a sample for a plot -- notice the shape\n",
    "plt_sample_batch = normal_diag_batch.sample(10000)\n",
    "plt_sample_batch.shape\n"
   ]
  },
  {
   "cell_type": "code",
   "execution_count": 42,
   "metadata": {},
   "outputs": [
    {
     "data": {
      "image/png": "[encoded data removed]",
      "text/plain": [
       "<Figure size 720x216 with 3 Axes>"
      ]
     },
     "metadata": {
      "needs_background": "light"
     },
     "output_type": "display_data"
    }
   ],
   "source": [
    "# Plot samples from the batched multivariate Gaussian\n",
    "\n",
    "fig, axs = (plt.subplots(1, 3, sharex=True, sharey=True, figsize=(10, 3)))\n",
    "titles = ['cov_diag=[1, 2]','cov_diag=[2, 1]', 'cov_diag=[2, 2]']\n",
    "\n",
    "for i, (ax, title) in enumerate(zip(axs,titles)):\n",
    "    samples = plt_sample_batch[:,i,:] #take the ith batch [samples x event_shape]\n",
    "    ax.scatter(samples[:, 0], samples[:, 1], marker='.', alpha=0.05)\n",
    "    ax.set_title(title)\n",
    "plt.show()"
   ]
  },
  {
   "cell_type": "markdown",
   "metadata": {},
   "source": [
    "\n",
    "\n",
    "***\n",
    "<a id='the_independent_distribution'></a>\n",
    "## The Independent Distribution"
   ]
  },
  {
   "cell_type": "code",
   "execution_count": 4,
   "metadata": {},
   "outputs": [],
   "source": [
    "# Start by defining a batch of two univariate Gaussians, then\n",
    "# combine them into a bivariate Gaussian with independent components\n",
    "locs = [-1.,1.]\n",
    "scales = [0.5,1.]\n",
    "batch_of_normals = tfd.Normal(loc=locs,scale=scales)\n"
   ]
  },
  {
   "cell_type": "code",
   "execution_count": 5,
   "metadata": {},
   "outputs": [
    {
     "data": {
      "image/png": "[encoded data removed]",
      "text/plain": [
       "<Figure size 432x288 with 1 Axes>"
      ]
     },
     "metadata": {
      "needs_background": "light"
     },
     "output_type": "display_data"
    }
   ],
   "source": [
    "# Univariate density functions\n",
    "\n",
    "import seaborn as sns\n",
    "\n",
    "t = np.linspace(-4, 4, 10000)\n",
    "densities = batch_of_normals.prob(np.repeat(t[:, np.newaxis], 2, axis=1)) # each column is a vector of densities for one distn\n",
    "\n",
    "sns.lineplot(t, densities[:, 0], label='loc={}, scale={}'.format(locs[0], scales[0]))\n",
    "sns.lineplot(t, densities[:, 1], label='loc={}, scale={}'.format(locs[1], scales[1]))\n",
    "plt.ylabel('Probability density')\n",
    "plt.xlabel('Value')\n",
    "plt.legend()\n",
    "plt.show()"
   ]
  },
  {
   "cell_type": "code",
   "execution_count": 6,
   "metadata": {},
   "outputs": [
    {
     "data": {
      "text/plain": [
       "<tfp.distributions.Normal 'Normal' batch_shape=[2] event_shape=[] dtype=float32>"
      ]
     },
     "execution_count": 6,
     "metadata": {},
     "output_type": "execute_result"
    }
   ],
   "source": [
    "# Check their batch_shape and event_shape\n",
    "\n",
    "batch_of_normals"
   ]
  },
  {
   "cell_type": "code",
   "execution_count": 7,
   "metadata": {},
   "outputs": [],
   "source": [
    "# Use Independent to convert the batch shape to the event shape\n",
    "bivariate_normal_from_Independent = tfd.Independent(batch_of_normals, reinterpreted_batch_ndims=1)\n"
   ]
  },
  {
   "cell_type": "code",
   "execution_count": 8,
   "metadata": {},
   "outputs": [
    {
     "data": {
      "text/plain": [
       "<tfp.distributions.Independent 'IndependentNormal' batch_shape=[] event_shape=[2] dtype=float32>"
      ]
     },
     "execution_count": 8,
     "metadata": {},
     "output_type": "execute_result"
    }
   ],
   "source": [
    "# Note that dimension from batch_shape has shifted to event_shape\n",
    "bivariate_normal_from_Independent\n"
   ]
  },
  {
   "cell_type": "code",
   "execution_count": 9,
   "metadata": {},
   "outputs": [
    {
     "data": {
      "text/plain": [
       "<seaborn.axisgrid.JointGrid at 0x24ce818a108>"
      ]
     },
     "execution_count": 9,
     "metadata": {},
     "output_type": "execute_result"
    },
    {
     "data": {
      "image/png": "[encoded data removed]",
      "text/plain": [
       "<Figure size 432x432 with 3 Axes>"
      ]
     },
     "metadata": {
      "needs_background": "light"
     },
     "output_type": "display_data"
    }
   ],
   "source": [
    "# Create a plot showing joint density contours and marginal density functions\n",
    "\n",
    "samples = bivariate_normal_from_Independent.sample(10000)\n",
    "x1 = samples[:, 0]\n",
    "x2 = samples[:, 1]\n",
    "sns.jointplot(x1, x2, kind=\"kde\", space=0, color='b', xlim=[-4, 4], ylim=[-4, 4])"
   ]
  },
  {
   "cell_type": "code",
   "execution_count": 12,
   "metadata": {},
   "outputs": [
    {
     "data": {
      "text/plain": [
       "<tfp.distributions.MultivariateNormalDiag 'MultivariateNormalDiag' batch_shape=[] event_shape=[2] dtype=float32>"
      ]
     },
     "execution_count": 12,
     "metadata": {},
     "output_type": "execute_result"
    }
   ],
   "source": [
    "# Use MultivariateNormalDiag to create the equivalent distribution\n",
    "# Note that diagonal covariance matrix => no correlation => independence (for the multivariate normal distribution)\n",
    "bivariate_normal_from_Multivariate = tfd.MultivariateNormalDiag(loc=locs, scale_diag=scales)\n",
    "bivariate_normal_from_Multivariate"
   ]
  },
  {
   "cell_type": "code",
   "execution_count": 13,
   "metadata": {},
   "outputs": [
    {
     "data": {
      "text/plain": [
       "<seaborn.axisgrid.JointGrid at 0x24cd8cc5a88>"
      ]
     },
     "execution_count": 13,
     "metadata": {},
     "output_type": "execute_result"
    },
    {
     "data": {
      "image/png": "[encoded data removed]",
      "text/plain": [
       "<Figure size 432x432 with 3 Axes>"
      ]
     },
     "metadata": {
      "needs_background": "light"
     },
     "output_type": "display_data"
    }
   ],
   "source": [
    "# Plot the joint density function of bivariate_normal_from_Independent\n",
    "# Refer back to bivariate_normal_from_Independent to show that the plot is the same\n",
    "# Summarise how Independent has been used\n",
    "\n",
    "samples = bivariate_normal_from_Multivariate.sample(10000)\n",
    "x1 = samples[:, 0]\n",
    "x2 = samples[:, 1]\n",
    "sns.jointplot(x1, x2, kind=\"kde\", space=0, color='b', xlim=[-4, 4], ylim=[-4, 4])"
   ]
  },
  {
   "cell_type": "markdown",
   "metadata": {},
   "source": [
    "#### Shifting batch dimensions to event dimensions using \n",
    "`reinterpreted_batch_ndims`"
   ]
  },
  {
   "cell_type": "code",
   "execution_count": 15,
   "metadata": {},
   "outputs": [],
   "source": [
    "# Demonstrate use of reinterpreted_batch_ndims\n",
    "# By default all batch dims except the first are transferred to event dims\n",
    "\n",
    "loc_grid = [[-100., -100.],\n",
    "            [100., 100.],\n",
    "            [0., 0.]]\n",
    "scale_grid = [[1., 10.],\n",
    "              [1., 10.],\n",
    "              [1., 1.]]\n",
    "\n",
    "normals_batch_3by2_event_1 = tfd.Normal(loc=loc_grid, scale=scale_grid)"
   ]
  },
  {
   "cell_type": "code",
   "execution_count": 16,
   "metadata": {},
   "outputs": [
    {
     "data": {
      "text/plain": [
       "<tfp.distributions.Normal 'Normal' batch_shape=[3, 2] event_shape=[] dtype=float32>"
      ]
     },
     "execution_count": 16,
     "metadata": {},
     "output_type": "execute_result"
    }
   ],
   "source": [
    "# Highlight batch_shape\n",
    "\n",
    "normals_batch_3by2_event_1"
   ]
  },
  {
   "cell_type": "code",
   "execution_count": 17,
   "metadata": {},
   "outputs": [
    {
     "data": {
      "text/plain": [
       "<tfp.distributions.Independent 'IndependentNormal' batch_shape=[3] event_shape=[2] dtype=float32>"
      ]
     },
     "execution_count": 17,
     "metadata": {},
     "output_type": "execute_result"
    }
   ],
   "source": [
    "# We now have a batch of 3 bivariate normal distributions,\n",
    "# each parametrised by a column of our original parameter grid\n",
    "\n",
    "normals_batch_3_event_2 = tfd.Independent(normals_batch_3by2_event_1)\n",
    "normals_batch_3_event_2"
   ]
  },
  {
   "cell_type": "code",
   "execution_count": 18,
   "metadata": {},
   "outputs": [
    {
     "data": {
      "text/plain": [
       "<tf.Tensor: shape=(3,), dtype=float32, numpy=array([-4.1146406e+03, -4.1404624e+00, -2.8378770e+00], dtype=float32)>"
      ]
     },
     "execution_count": 18,
     "metadata": {},
     "output_type": "execute_result"
    }
   ],
   "source": [
    "# Evaluate log_prob\n",
    "normals_batch_3_event_2.log_prob(value=[[-10,10.],[100.,100.],[1.,1.]])\n"
   ]
  },
  {
   "cell_type": "code",
   "execution_count": 19,
   "metadata": {},
   "outputs": [
    {
     "data": {
      "text/plain": [
       "<tfp.distributions.Independent 'IndependentNormal' batch_shape=[] event_shape=[3, 2] dtype=float32>"
      ]
     },
     "execution_count": 19,
     "metadata": {},
     "output_type": "execute_result"
    }
   ],
   "source": [
    "# Can reinterpret _all_ batch dimensions as event dimensions\n",
    "\n",
    "normals_batch_1_event_3by2 = tfd.Independent(normals_batch_3by2_event_1, reinterpreted_batch_ndims=2)\n",
    "normals_batch_1_event_3by2"
   ]
  },
  {
   "cell_type": "code",
   "execution_count": 20,
   "metadata": {},
   "outputs": [
    {
     "data": {
      "text/plain": [
       "<tf.Tensor: shape=(), dtype=float32, numpy=-4121.619>"
      ]
     },
     "execution_count": 20,
     "metadata": {},
     "output_type": "execute_result"
    }
   ],
   "source": [
    "# Take log_probs \n",
    "\n",
    "normals_batch_1_event_3by2.log_prob(value=[[-10,10.],[100.,100.],[1.,1.]])"
   ]
  },
  {
   "cell_type": "markdown",
   "metadata": {},
   "source": [
    "#### Using `Independent` to build a Naive Bayes classifier"
   ]
  },
  {
   "cell_type": "markdown",
   "metadata": {},
   "source": [
    "#### Introduction to `newsgroups` data set"
   ]
  },
  {
   "cell_type": "markdown",
   "metadata": {},
   "source": [
    "In this tutorial, just load the dataset, fetch train/test splits, probably choose a subset of the data.\n",
    "\n",
    "Construct the class conditional feature distribution (with Independent, using the Naive Bayes assumption) and sample from it.\n",
    "\n",
    "We can just use the ML estimates for parameters, in later tutorials we will learn them."
   ]
  },
  {
   "cell_type": "code",
   "execution_count": 21,
   "metadata": {},
   "outputs": [],
   "source": [
    "# Convenience function for retrieving the 20 newsgroups data set\n",
    "\n",
    "# Usenet was a forerunner to modern internet forums\n",
    "# Users could post and read articles\n",
    "# Newsgroup corresponded to a topic\n",
    "# Example topics in this data set: IBM computer hardware, baseball\n",
    "# Our objective is to use an article's contents to predict its newsgroup,\n",
    "# a 20-class classification problem.\n",
    "\n",
    "# 18000 newsgroups, posts on 20 topics\n",
    "from sklearn.datasets import fetch_20newsgroups\n",
    "from sklearn.feature_extraction.text import CountVectorizer\n"
   ]
  },
  {
   "cell_type": "code",
   "execution_count": 22,
   "metadata": {},
   "outputs": [],
   "source": [
    "# Get the train data\n",
    "\n",
    "newsgroups_data = fetch_20newsgroups(data_home='Data/', subset='train')"
   ]
  },
  {
   "cell_type": "code",
   "execution_count": 23,
   "metadata": {},
   "outputs": [
    {
     "name": "stdout",
     "output_type": "stream",
     "text": [
      ".. _20newsgroups_dataset:\n",
      "\n",
      "The 20 newsgroups text dataset\n",
      "------------------------------\n",
      "\n",
      "The 20 newsgroups dataset comprises around 18000 newsgroups posts on\n",
      "20 topics split in two subsets: one for training (or development)\n",
      "and the other one for testing (or for performance evaluation). The split\n",
      "between the train and test set is based upon a messages posted before\n",
      "and after a specific date.\n",
      "\n",
      "This module contains two loaders. The first one,\n",
      ":func:`sklearn.datasets.fetch_20newsgroups`,\n",
      "returns a list of the raw texts that can be fed to text feature\n",
      "extractors such as :class:`sklearn.feature_extraction.text.CountVectorizer`\n",
      "with custom parameters so as to extract feature vectors.\n",
      "The second one, :func:`sklearn.datasets.fetch_20newsgroups_vectorized`,\n",
      "returns ready-to-use features, i.e., it is not necessary to use a feature\n",
      "extractor.\n",
      "\n",
      "**Data Set Characteristics:**\n",
      "\n",
      "    =================   ==========\n",
      "    Classes                     20\n",
      "    Samples total            18846\n",
      "    Dimensionality               1\n",
      "    Features                  text\n",
      "    =================   ==========\n",
      "\n",
      "Usage\n",
      "~~~~~\n",
      "\n",
      "The :func:`sklearn.datasets.fetch_20newsgroups` function is a data\n",
      "fetching / caching functions that downloads the data archive from\n",
      "the original `20 newsgroups website`_, extracts the archive contents\n",
      "in the ``~/scikit_learn_data/20news_home`` folder and calls the\n",
      ":func:`sklearn.datasets.load_files` on either the training or\n",
      "testing set folder, or both of them::\n",
      "\n",
      "  >>> from sklearn.datasets import fetch_20newsgroups\n",
      "  >>> newsgroups_train = fetch_20newsgroups(subset='train')\n",
      "\n",
      "  >>> from pprint import pprint\n",
      "  >>> pprint(list(newsgroups_train.target_names))\n",
      "  ['alt.atheism',\n",
      "   'comp.graphics',\n",
      "   'comp.os.ms-windows.misc',\n",
      "   'comp.sys.ibm.pc.hardware',\n",
      "   'comp.sys.mac.hardware',\n",
      "   'comp.windows.x',\n",
      "   'misc.forsale',\n",
      "   'rec.autos',\n",
      "   'rec.motorcycles',\n",
      "   'rec.sport.baseball',\n",
      "   'rec.sport.hockey',\n",
      "   'sci.crypt',\n",
      "   'sci.electronics',\n",
      "   'sci.med',\n",
      "   'sci.space',\n",
      "   'soc.religion.christian',\n",
      "   'talk.politics.guns',\n",
      "   'talk.politics.mideast',\n",
      "   'talk.politics.misc',\n",
      "   'talk.religion.misc']\n",
      "\n",
      "The real data lies in the ``filenames`` and ``target`` attributes. The target\n",
      "attribute is the integer index of the category::\n",
      "\n",
      "  >>> newsgroups_train.filenames.shape\n",
      "  (11314,)\n",
      "  >>> newsgroups_train.target.shape\n",
      "  (11314,)\n",
      "  >>> newsgroups_train.target[:10]\n",
      "  array([ 7,  4,  4,  1, 14, 16, 13,  3,  2,  4])\n",
      "\n",
      "It is possible to load only a sub-selection of the categories by passing the\n",
      "list of the categories to load to the\n",
      ":func:`sklearn.datasets.fetch_20newsgroups` function::\n",
      "\n",
      "  >>> cats = ['alt.atheism', 'sci.space']\n",
      "  >>> newsgroups_train = fetch_20newsgroups(subset='train', categories=cats)\n",
      "\n",
      "  >>> list(newsgroups_train.target_names)\n",
      "  ['alt.atheism', 'sci.space']\n",
      "  >>> newsgroups_train.filenames.shape\n",
      "  (1073,)\n",
      "  >>> newsgroups_train.target.shape\n",
      "  (1073,)\n",
      "  >>> newsgroups_train.target[:10]\n",
      "  array([0, 1, 1, 1, 0, 1, 1, 0, 0, 0])\n",
      "\n",
      "Converting text to vectors\n",
      "~~~~~~~~~~~~~~~~~~~~~~~~~~\n",
      "\n",
      "In order to feed predictive or clustering models with the text data,\n",
      "one first need to turn the text into vectors of numerical values suitable\n",
      "for statistical analysis. This can be achieved with the utilities of the\n",
      "``sklearn.feature_extraction.text`` as demonstrated in the following\n",
      "example that extract `TF-IDF`_ vectors of unigram tokens\n",
      "from a subset of 20news::\n",
      "\n",
      "  >>> from sklearn.feature_extraction.text import TfidfVectorizer\n",
      "  >>> categories = ['alt.atheism', 'talk.religion.misc',\n",
      "  ...               'comp.graphics', 'sci.space']\n",
      "  >>> newsgroups_train = fetch_20newsgroups(subset='train',\n",
      "  ...                                       categories=categories)\n",
      "  >>> vectorizer = TfidfVectorizer()\n",
      "  >>> vectors = vectorizer.fit_transform(newsgroups_train.data)\n",
      "  >>> vectors.shape\n",
      "  (2034, 34118)\n",
      "\n",
      "The extracted TF-IDF vectors are very sparse, with an average of 159 non-zero\n",
      "components by sample in a more than 30000-dimensional space\n",
      "(less than .5% non-zero features)::\n",
      "\n",
      "  >>> vectors.nnz / float(vectors.shape[0])\n",
      "  159.01327...\n",
      "\n",
      ":func:`sklearn.datasets.fetch_20newsgroups_vectorized` is a function which \n",
      "returns ready-to-use token counts features instead of file names.\n",
      "\n",
      ".. _`20 newsgroups website`: http://people.csail.mit.edu/jrennie/20Newsgroups/\n",
      ".. _`TF-IDF`: https://en.wikipedia.org/wiki/Tf-idf\n",
      "\n",
      "\n",
      "Filtering text for more realistic training\n",
      "~~~~~~~~~~~~~~~~~~~~~~~~~~~~~~~~~~~~~~~~~~\n",
      "\n",
      "It is easy for a classifier to overfit on particular things that appear in the\n",
      "20 Newsgroups data, such as newsgroup headers. Many classifiers achieve very\n",
      "high F-scores, but their results would not generalize to other documents that\n",
      "aren't from this window of time.\n",
      "\n",
      "For example, let's look at the results of a multinomial Naive Bayes classifier,\n",
      "which is fast to train and achieves a decent F-score::\n",
      "\n",
      "  >>> from sklearn.naive_bayes import MultinomialNB\n",
      "  >>> from sklearn import metrics\n",
      "  >>> newsgroups_test = fetch_20newsgroups(subset='test',\n",
      "  ...                                      categories=categories)\n",
      "  >>> vectors_test = vectorizer.transform(newsgroups_test.data)\n",
      "  >>> clf = MultinomialNB(alpha=.01)\n",
      "  >>> clf.fit(vectors, newsgroups_train.target)\n",
      "  MultinomialNB(alpha=0.01, class_prior=None, fit_prior=True)\n",
      "\n",
      "  >>> pred = clf.predict(vectors_test)\n",
      "  >>> metrics.f1_score(newsgroups_test.target, pred, average='macro')\n",
      "  0.88213...\n",
      "\n",
      "(The example :ref:`sphx_glr_auto_examples_text_plot_document_classification_20newsgroups.py` shuffles\n",
      "the training and test data, instead of segmenting by time, and in that case\n",
      "multinomial Naive Bayes gets a much higher F-score of 0.88. Are you suspicious\n",
      "yet of what's going on inside this classifier?)\n",
      "\n",
      "Let's take a look at what the most informative features are:\n",
      "\n",
      "  >>> import numpy as np\n",
      "  >>> def show_top10(classifier, vectorizer, categories):\n",
      "  ...     feature_names = np.asarray(vectorizer.get_feature_names())\n",
      "  ...     for i, category in enumerate(categories):\n",
      "  ...         top10 = np.argsort(classifier.coef_[i])[-10:]\n",
      "  ...         print(\"%s: %s\" % (category, \" \".join(feature_names[top10])))\n",
      "  ...\n",
      "  >>> show_top10(clf, vectorizer, newsgroups_train.target_names)\n",
      "  alt.atheism: edu it and in you that is of to the\n",
      "  comp.graphics: edu in graphics it is for and of to the\n",
      "  sci.space: edu it that is in and space to of the\n",
      "  talk.religion.misc: not it you in is that and to of the\n",
      "\n",
      "\n",
      "You can now see many things that these features have overfit to:\n",
      "\n",
      "- Almost every group is distinguished by whether headers such as\n",
      "  ``NNTP-Posting-Host:`` and ``Distribution:`` appear more or less often.\n",
      "- Another significant feature involves whether the sender is affiliated with\n",
      "  a university, as indicated either by their headers or their signature.\n",
      "- The word \"article\" is a significant feature, based on how often people quote\n",
      "  previous posts like this: \"In article [article ID], [name] <[e-mail address]>\n",
      "  wrote:\"\n",
      "- Other features match the names and e-mail addresses of particular people who\n",
      "  were posting at the time.\n",
      "\n",
      "With such an abundance of clues that distinguish newsgroups, the classifiers\n",
      "barely have to identify topics from text at all, and they all perform at the\n",
      "same high level.\n",
      "\n",
      "For this reason, the functions that load 20 Newsgroups data provide a\n",
      "parameter called **remove**, telling it what kinds of information to strip out\n",
      "of each file. **remove** should be a tuple containing any subset of\n",
      "``('headers', 'footers', 'quotes')``, telling it to remove headers, signature\n",
      "blocks, and quotation blocks respectively.\n",
      "\n",
      "  >>> newsgroups_test = fetch_20newsgroups(subset='test',\n",
      "  ...                                      remove=('headers', 'footers', 'quotes'),\n",
      "  ...                                      categories=categories)\n",
      "  >>> vectors_test = vectorizer.transform(newsgroups_test.data)\n",
      "  >>> pred = clf.predict(vectors_test)\n",
      "  >>> metrics.f1_score(pred, newsgroups_test.target, average='macro')\n",
      "  0.77310...\n",
      "\n",
      "This classifier lost over a lot of its F-score, just because we removed\n",
      "metadata that has little to do with topic classification.\n",
      "It loses even more if we also strip this metadata from the training data:\n",
      "\n",
      "  >>> newsgroups_train = fetch_20newsgroups(subset='train',\n",
      "  ...                                       remove=('headers', 'footers', 'quotes'),\n",
      "  ...                                       categories=categories)\n",
      "  >>> vectors = vectorizer.fit_transform(newsgroups_train.data)\n",
      "  >>> clf = MultinomialNB(alpha=.01)\n",
      "  >>> clf.fit(vectors, newsgroups_train.target)\n",
      "  MultinomialNB(alpha=0.01, class_prior=None, fit_prior=True)\n",
      "\n",
      "  >>> vectors_test = vectorizer.transform(newsgroups_test.data)\n",
      "  >>> pred = clf.predict(vectors_test)\n",
      "  >>> metrics.f1_score(newsgroups_test.target, pred, average='macro')\n",
      "  0.76995...\n",
      "\n",
      "Some other classifiers cope better with this harder version of the task. Try\n",
      "running :ref:`sphx_glr_auto_examples_model_selection_grid_search_text_feature_extraction.py` with and without\n",
      "the ``--filter`` option to compare the results.\n",
      "\n",
      ".. topic:: Recommendation\n",
      "\n",
      "  When evaluating text classifiers on the 20 Newsgroups data, you\n",
      "  should strip newsgroup-related metadata. In scikit-learn, you can do this by\n",
      "  setting ``remove=('headers', 'footers', 'quotes')``. The F-score will be\n",
      "  lower because it is more realistic.\n",
      "\n",
      ".. topic:: Examples\n",
      "\n",
      "   * :ref:`sphx_glr_auto_examples_model_selection_grid_search_text_feature_extraction.py`\n",
      "\n",
      "   * :ref:`sphx_glr_auto_examples_text_plot_document_classification_20newsgroups.py`\n",
      "\n"
     ]
    }
   ],
   "source": [
    "# More information about the data set\n",
    "\n",
    "print(newsgroups_data['DESCR'])"
   ]
  },
  {
   "cell_type": "code",
   "execution_count": 51,
   "metadata": {},
   "outputs": [
    {
     "name": "stdout",
     "output_type": "stream",
     "text": [
      "From: lerxst@wam.umd.edu (where's my thing)\n",
      "Subject: WHAT car is this!?\n",
      "Nntp-Posting-Host: rac3.wam.umd.edu\n",
      "Organization: University of Maryland, College Park\n",
      "Lines: 15\n",
      "\n",
      " I was wondering if anyone out there could enlighten me on this car I saw\n",
      "the other day. It was a 2-door sports car, looked to be from the late 60s/\n",
      "early 70s. It was called a Bricklin. The doors were really small. In addition,\n",
      "the front bumper was separate from the rest of the body. This is \n",
      "all I know. If anyone can tellme a model name, engine specs, years\n",
      "of production, where this car is made, history, or whatever info you\n",
      "have on this funky looking car, please e-mail.\n",
      "\n",
      "Thanks,\n",
      "- IL\n",
      "   ---- brought to you by your neighborhood Lerxst ----\n",
      "\n",
      "\n",
      "\n",
      "\n",
      "\n",
      "(11314,)\n"
     ]
    }
   ],
   "source": [
    "# Example article\n",
    "print(newsgroups_data['data'][0])\n",
    "print(np.array(newsgroups_data['data']).shape)\n"
   ]
  },
  {
   "cell_type": "code",
   "execution_count": 25,
   "metadata": {},
   "outputs": [
    {
     "data": {
      "text/plain": [
       "7"
      ]
     },
     "execution_count": 25,
     "metadata": {},
     "output_type": "execute_result"
    }
   ],
   "source": [
    "# Associated label\n",
    "\n",
    "newsgroups_data['target'][0]"
   ]
  },
  {
   "cell_type": "code",
   "execution_count": 26,
   "metadata": {},
   "outputs": [
    {
     "data": {
      "text/plain": [
       "'rec.autos'"
      ]
     },
     "execution_count": 26,
     "metadata": {},
     "output_type": "execute_result"
    }
   ],
   "source": [
    "# Name of label\n",
    "newsgroups_data['target_names'][7]\n"
   ]
  },
  {
   "cell_type": "code",
   "execution_count": 27,
   "metadata": {},
   "outputs": [],
   "source": [
    "# Preprocessing boilerplate\n",
    "\n",
    "n_documents = len(newsgroups_data['data'])\n",
    "\n",
    "count_vectorizer = CountVectorizer(input='content', binary=True,\n",
    "                                   max_df=0.25, min_df=1.01/n_documents) # ignore common words, words that appear once\n",
    "binary_bag_of_words = count_vectorizer.fit_transform(newsgroups_data['data']) # input is a list of strings\n"
   ]
  },
  {
   "cell_type": "code",
   "execution_count": 60,
   "metadata": {},
   "outputs": [
    {
     "data": {
      "text/plain": [
       "array([[0, 2, 1, 0, 0, 1, 1, 0, 0, 0, 0, 1, 0, 2],\n",
       "       [1, 0, 0, 1, 0, 0, 0, 1, 0, 0, 0, 0, 0, 0],\n",
       "       [0, 0, 0, 0, 1, 0, 0, 0, 0, 1, 0, 0, 1, 0],\n",
       "       [0, 0, 0, 0, 0, 0, 0, 0, 1, 0, 1, 0, 0, 0]], dtype=int64)"
      ]
     },
     "execution_count": 60,
     "metadata": {},
     "output_type": "execute_result"
    }
   ],
   "source": [
    "temp_count_vectorizer = CountVectorizer()\n",
    "x = temp_count_vectorizer.fit_transform([\"hi how are you? what are you doing\",\n",
    "                                         \"I am fine thanks\",\n",
    "                                         \"Hey whats up\",\n",
    "                                         \"vectorizer trials\"])\n",
    "x.toarray()\n",
    "# in the first sentence the 'am' feature is 0 hence first number in the first array element is 0\n",
    "# 'are' feature is appearing 2 times in the first array element\n",
    "# 0,2,1,0,0,1,1,0,0,0,0,1,0,2 => number of times(am are doing fine hey hi how thanks trials up vectorizer what whats you)\n",
    "# in the sentence \"hi how are you? what are you doing\""
   ]
  },
  {
   "cell_type": "code",
   "execution_count": 61,
   "metadata": {},
   "outputs": [
    {
     "data": {
      "text/plain": [
       "['am',\n",
       " 'are',\n",
       " 'doing',\n",
       " 'fine',\n",
       " 'hey',\n",
       " 'hi',\n",
       " 'how',\n",
       " 'thanks',\n",
       " 'trials',\n",
       " 'up',\n",
       " 'vectorizer',\n",
       " 'what',\n",
       " 'whats',\n",
       " 'you']"
      ]
     },
     "execution_count": 61,
     "metadata": {},
     "output_type": "execute_result"
    }
   ],
   "source": [
    "temp_count_vectorizer.get_feature_names()"
   ]
  },
  {
   "cell_type": "code",
   "execution_count": null,
   "metadata": {},
   "outputs": [],
   "source": []
  },
  {
   "cell_type": "code",
   "execution_count": 28,
   "metadata": {},
   "outputs": [
    {
     "data": {
      "text/plain": [
       "<11314x56365 sparse matrix of type '<class 'numpy.int64'>'\n",
       "\twith 1320454 stored elements in Compressed Sparse Row format>"
      ]
     },
     "execution_count": 28,
     "metadata": {},
     "output_type": "execute_result"
    }
   ],
   "source": [
    "# Check shape\n",
    "\n",
    "binary_bag_of_words"
   ]
  },
  {
   "cell_type": "code",
   "execution_count": 62,
   "metadata": {},
   "outputs": [
    {
     "data": {
      "text/plain": [
       "['11',\n",
       " '120',\n",
       " '14',\n",
       " '15',\n",
       " '160',\n",
       " '180',\n",
       " '185c',\n",
       " '1985',\n",
       " '1qvfo9innc3s',\n",
       " '213',\n",
       " '23',\n",
       " '36',\n",
       " '4h9',\n",
       " '512k',\n",
       " '60s',\n",
       " '70s',\n",
       " '734340159',\n",
       " '800',\n",
       " '80mb',\n",
       " 'abraxis',\n",
       " 'acceleration',\n",
       " 'access',\n",
       " 'active',\n",
       " 'actually',\n",
       " 'adapters',\n",
       " 'add',\n",
       " 'addition',\n",
       " 'address',\n",
       " 'advance',\n",
       " 'already',\n",
       " 'am',\n",
       " 'amber',\n",
       " 'answer',\n",
       " 'answered',\n",
       " 'any',\n",
       " 'anybody',\n",
       " 'anymore',\n",
       " 'appearence',\n",
       " 'aren',\n",
       " 'around',\n",
       " 'astrophysical',\n",
       " 'at',\n",
       " 'attained',\n",
       " 'back',\n",
       " 'baker',\n",
       " 'base',\n",
       " 'basically',\n",
       " 'because',\n",
       " 'before',\n",
       " 'better',\n",
       " 'bit',\n",
       " 'body',\n",
       " 'brave',\n",
       " 'breifly',\n",
       " 'bricklin',\n",
       " 'brief',\n",
       " 'brought',\n",
       " 'bugs',\n",
       " 'bumper',\n",
       " 'bunch',\n",
       " 'c5jlwx',\n",
       " 'c5owcb',\n",
       " 'call',\n",
       " 'called',\n",
       " 'cambridge',\n",
       " 'car',\n",
       " 'cards',\n",
       " 'carson',\n",
       " 'caution',\n",
       " 'cfa',\n",
       " 'checked',\n",
       " 'chip',\n",
       " 'class1',\n",
       " 'clear',\n",
       " 'clock',\n",
       " 'cmu',\n",
       " 'code',\n",
       " 'college',\n",
       " 'command',\n",
       " 'conditions',\n",
       " 'convictions',\n",
       " 'corner',\n",
       " 'corporation',\n",
       " 'cpu',\n",
       " 'crew',\n",
       " 'cs',\n",
       " 'csd',\n",
       " 'curious',\n",
       " 'daily',\n",
       " 'dangerous',\n",
       " 'days',\n",
       " 'detailing',\n",
       " 'dirt',\n",
       " 'display',\n",
       " 'division',\n",
       " 'do',\n",
       " 'does',\n",
       " 'done',\n",
       " 'door',\n",
       " 'doors',\n",
       " 'drops',\n",
       " 'dumb',\n",
       " 'duo',\n",
       " 'early',\n",
       " 'ec',\n",
       " 'ecn',\n",
       " 'electrical',\n",
       " 'email',\n",
       " 'enemies',\n",
       " 'engine',\n",
       " 'engineering',\n",
       " 'enlighten',\n",
       " 'error',\n",
       " 'errors',\n",
       " 'especially',\n",
       " 'etrat',\n",
       " 'experiences',\n",
       " 'fair',\n",
       " 'far',\n",
       " 'feel',\n",
       " 'figured',\n",
       " 'fill',\n",
       " 'final',\n",
       " 'finally',\n",
       " 'finals',\n",
       " 'fix',\n",
       " 'floppies',\n",
       " 'floppy',\n",
       " 'folks',\n",
       " 'four',\n",
       " 'front',\n",
       " 'functionality',\n",
       " 'funky',\n",
       " 'gave',\n",
       " 'ghost',\n",
       " 'goes',\n",
       " 'good',\n",
       " 'graphics',\n",
       " 'great',\n",
       " 'green',\n",
       " 'guy',\n",
       " 'guykuo',\n",
       " 'had',\n",
       " 'harris',\n",
       " 'harvard',\n",
       " 'has',\n",
       " 'head',\n",
       " 'heard',\n",
       " 'heat',\n",
       " 'hellcats',\n",
       " 'helpful',\n",
       " 'history',\n",
       " 'hit',\n",
       " 'hopefully',\n",
       " 'hour',\n",
       " 'how',\n",
       " 'humor',\n",
       " 'iastate',\n",
       " 'ignore',\n",
       " 'il',\n",
       " 'impression',\n",
       " 'information',\n",
       " 'intended',\n",
       " 'into',\n",
       " 'introduce',\n",
       " 'introductions',\n",
       " 'its',\n",
       " 'jcm',\n",
       " 'jgreen',\n",
       " 'joe',\n",
       " 'keywords',\n",
       " 'knew',\n",
       " 'knowledge',\n",
       " 'known',\n",
       " 'kuo',\n",
       " 'kyanko',\n",
       " 'late',\n",
       " 'launch',\n",
       " 'lerxst',\n",
       " 'level',\n",
       " 'lies',\n",
       " 'life',\n",
       " 'liftoff',\n",
       " 'line',\n",
       " 'll',\n",
       " 'looked',\n",
       " 'low',\n",
       " 'ma',\n",
       " 'mac',\n",
       " 'machine',\n",
       " 'machines',\n",
       " 'macleak',\n",
       " 'made',\n",
       " 'mail',\n",
       " 'make',\n",
       " 'market',\n",
       " 'maryland',\n",
       " 'maybe',\n",
       " 'mcdowell',\n",
       " 'meaning',\n",
       " 'memory',\n",
       " 'message',\n",
       " 'model',\n",
       " 'money',\n",
       " 'more',\n",
       " 'much',\n",
       " 'n3p',\n",
       " 'name',\n",
       " 'neighborhood',\n",
       " 'news',\n",
       " 'newsreader',\n",
       " 'nice',\n",
       " 'nietzsche',\n",
       " 'observatory',\n",
       " 'ok',\n",
       " 'ones',\n",
       " 'opinions',\n",
       " 'oscillator',\n",
       " 'other',\n",
       " 'p9000',\n",
       " 'pack',\n",
       " 'parity',\n",
       " 'park',\n",
       " 'pb',\n",
       " 'people',\n",
       " 'per',\n",
       " 'perform',\n",
       " 'person',\n",
       " 'phone',\n",
       " 'picking',\n",
       " 'pl9',\n",
       " 'played',\n",
       " 'plus',\n",
       " 'points',\n",
       " 'poll',\n",
       " 'possibly',\n",
       " 'post',\n",
       " 'powerbook',\n",
       " 'premium',\n",
       " 'pretty',\n",
       " 'previously',\n",
       " 'price',\n",
       " 'probably',\n",
       " 'procedure',\n",
       " 'production',\n",
       " 'prove',\n",
       " 'purdue',\n",
       " 'quadrilateral',\n",
       " 'questions',\n",
       " 'quote',\n",
       " 'rac3',\n",
       " 'rat',\n",
       " 'rated',\n",
       " 'reading',\n",
       " 'realize',\n",
       " 'recently',\n",
       " 'reports',\n",
       " 'requested',\n",
       " 'requires',\n",
       " 'rest',\n",
       " 'right',\n",
       " 'rjck',\n",
       " 'rob',\n",
       " 'robert',\n",
       " 'round',\n",
       " 'rumors',\n",
       " 'saw',\n",
       " 'scares',\n",
       " 'sci',\n",
       " 'see',\n",
       " 'send',\n",
       " 'sense',\n",
       " 'separate',\n",
       " 'set',\n",
       " 'shared',\n",
       " 'shelley',\n",
       " 'shuttle',\n",
       " 'si',\n",
       " 'since',\n",
       " 'sinks',\n",
       " 'size',\n",
       " 'small',\n",
       " 'smithsonian',\n",
       " 'so',\n",
       " 'software',\n",
       " 'solicit',\n",
       " 'somebody',\n",
       " 'sooner',\n",
       " 'sooo',\n",
       " 'sorry',\n",
       " 'souls',\n",
       " 'specs',\n",
       " 'speed',\n",
       " 'sports',\n",
       " 'ssd',\n",
       " 'starting',\n",
       " 'std',\n",
       " 'store',\n",
       " 'stuff',\n",
       " 'subjective',\n",
       " 'suchlike',\n",
       " 'summarizing',\n",
       " 'summer',\n",
       " 'supposed',\n",
       " 'swing',\n",
       " 'system',\n",
       " 'systems',\n",
       " 'taking',\n",
       " 'tell',\n",
       " 'tellme',\n",
       " 'their',\n",
       " 'they',\n",
       " 'things',\n",
       " 'thomas',\n",
       " 'through',\n",
       " 'till',\n",
       " 'time',\n",
       " 'tin',\n",
       " 'tombaker',\n",
       " 'top',\n",
       " 'truth',\n",
       " 'ttacs1',\n",
       " 'ttu',\n",
       " 'twillis',\n",
       " 'two',\n",
       " 'umd',\n",
       " 'understanding',\n",
       " 'unexpected',\n",
       " 'up',\n",
       " 'upgrade',\n",
       " 'upgraded',\n",
       " 'usage',\n",
       " 'use',\n",
       " 'uses',\n",
       " 'uucp',\n",
       " 'values',\n",
       " 've',\n",
       " 'verify',\n",
       " 'version',\n",
       " 'waivered',\n",
       " 'wam',\n",
       " 'warning',\n",
       " 'washington',\n",
       " 'way',\n",
       " 'we',\n",
       " 'weekend',\n",
       " 'weitek',\n",
       " 'well',\n",
       " 'went',\n",
       " 'whatever',\n",
       " 'when',\n",
       " 'where',\n",
       " 'will',\n",
       " 'willis',\n",
       " 'winters',\n",
       " 'worth',\n",
       " 'wow',\n",
       " 'wrote',\n",
       " 'yea',\n",
       " 'years',\n",
       " 'yes',\n",
       " 'yet']"
      ]
     },
     "execution_count": 62,
     "metadata": {},
     "output_type": "execute_result"
    }
   ],
   "source": [
    "count_vectorizer.get_feature_names()"
   ]
  },
  {
   "cell_type": "code",
   "execution_count": 30,
   "metadata": {},
   "outputs": [
    {
     "data": {
      "text/plain": [
       "[array(['lerxst', 'wam', 'umd', 'where', 'thing', 'car', 'rac3',\n",
       "        'maryland', 'college', 'park', '15', 'wondering', 'anyone',\n",
       "        'could', 'enlighten', 'saw', 'day', 'door', 'sports', 'looked',\n",
       "        'late', '60s', 'early', '70s', 'called', 'bricklin', 'doors',\n",
       "        'were', 'really', 'small', 'addition', 'front', 'bumper',\n",
       "        'separate', 'rest', 'body', 'tellme', 'model', 'name', 'engine',\n",
       "        'specs', 'years', 'production', 'made', 'history', 'whatever',\n",
       "        'info', 'funky', 'looking', 'please', 'mail', 'thanks', 'il',\n",
       "        'brought', 'neighborhood'], dtype='<U80')]"
      ]
     },
     "execution_count": 30,
     "metadata": {},
     "output_type": "execute_result"
    }
   ],
   "source": [
    "# Check that the fit has been successful\n",
    "count_vectorizer.inverse_transform(binary_bag_of_words[0,:] )\n"
   ]
  },
  {
   "cell_type": "code",
   "execution_count": 31,
   "metadata": {},
   "outputs": [],
   "source": [
    "# Dict that will be useful later \n",
    "\n",
    "inv_vocabulary = {value:key for key, value in count_vectorizer.vocabulary_.items()}"
   ]
  },
  {
   "cell_type": "markdown",
   "metadata": {},
   "source": [
    "#### A Naive Bayes classifier for `newsgroup`"
   ]
  },
  {
   "cell_type": "markdown",
   "metadata": {},
   "source": [
    "Each feature vector $x$ is a list of indicators for whether a word appears in the article. $x_i$ is 1 if the $i$th word appears, and 0 otherwise. `inv_vocabulary` matches word indices $i$ to words.\n",
    "\n",
    "Each label $y$ is a value in $0, 1, \\ldots, 19$.\n",
    "\n",
    "The parts of a naive Bayes classifier for this problem can be summarised as:  \n",
    "\n",
    "\n",
    "- A probability distribution for the feature vector by class, $p(x|y = j)$ for each $j = 0, 1, \\ldots, 19$. These probability distributions are assumed to have independent components: we can factorize the joint probability as a product of marginal probabilities\n",
    "\\begin{equation}\n",
    "    p(x|y = j) = \\prod_{i=1}^d p(x_i|y = j)\n",
    "\\end{equation}\n",
    "These marginal probability distributions are Bernoulli distributions, each of which has a single parameter $\\theta_{ji} := p(x_i = 1|y = j)$. This parameter is the probability of observing word $i$ in an article of class $j$. \n",
    "\n",
    "- We will use the Laplace smoothed maximum likelihood estimate to compute these parameters. Laplace smoothing involves adding small counts to every feature for each class. Else, if a feature did not appear in the training set of a class, but then we observed it in our test data the log probability would be undefined.\n",
    "\n",
    "- A collection of class prior probabilities $p(y = j)$. These will be set by computing the class base rates in the training set.  \n",
    "\n",
    "\n",
    "- A function for computing the probability of class membership via Bayes' theorem:  \n",
    "\n",
    "\\begin{equation}\n",
    "    p(y = j|x) = \\frac{p(x|y = j)p(y = j)}{p(x)}\n",
    "\\end{equation}"
   ]
  },
  {
   "cell_type": "code",
   "execution_count": 32,
   "metadata": {},
   "outputs": [],
   "source": [
    "# Compute the parameter estimates (adjusted fraction of documents in class that contain word)\n",
    "\n",
    "n_classes = newsgroups_data['target'].max() + 1\n",
    "y = newsgroups_data['target']\n",
    "n_words = binary_bag_of_words.shape[1]\n",
    "\n",
    "alpha = 1e-6 # parameters for Laplace smoothing\n",
    "\n",
    "theta = np.zeros([n_classes, n_words]) # stores parameter values - prob. word given class\n",
    "for c_k in range(n_classes): # 0, 1, ..., 19\n",
    "    class_mask = (y == c_k)\n",
    "    N = class_mask.sum() # number of articles in class\n",
    "    theta[c_k, :] = (binary_bag_of_words[class_mask, :].sum(axis=0) + alpha)/(N + alpha*2)"
   ]
  },
  {
   "cell_type": "code",
   "execution_count": 33,
   "metadata": {},
   "outputs": [
    {
     "name": "stdout",
     "output_type": "stream",
     "text": [
      "Most probable word in class alt.atheism is \"people\".\n",
      "Most probable word in class comp.graphics is \"graphics\".\n",
      "Most probable word in class comp.os.ms-windows.misc is \"windows\".\n",
      "Most probable word in class comp.sys.ibm.pc.hardware is \"thanks\".\n",
      "Most probable word in class comp.sys.mac.hardware is \"mac\".\n",
      "Most probable word in class comp.windows.x is \"window\".\n",
      "Most probable word in class misc.forsale is \"sale\".\n",
      "Most probable word in class rec.autos is \"car\".\n",
      "Most probable word in class rec.motorcycles is \"dod\".\n",
      "Most probable word in class rec.sport.baseball is \"he\".\n",
      "Most probable word in class rec.sport.hockey is \"ca\".\n",
      "Most probable word in class sci.crypt is \"clipper\".\n",
      "Most probable word in class sci.electronics is \"use\".\n",
      "Most probable word in class sci.med is \"reply\".\n",
      "Most probable word in class sci.space is \"space\".\n",
      "Most probable word in class soc.religion.christian is \"god\".\n",
      "Most probable word in class talk.politics.guns is \"people\".\n",
      "Most probable word in class talk.politics.mideast is \"people\".\n",
      "Most probable word in class talk.politics.misc is \"people\".\n",
      "Most probable word in class talk.religion.misc is \"he\".\n"
     ]
    }
   ],
   "source": [
    "# Check whether the most probable word in each class is reasonable\n",
    "\n",
    "most_probable_word_ix = theta.argmax(axis=1) # most probable word for each class\n",
    "\n",
    "for j, ix in enumerate(most_probable_word_ix):\n",
    "    print('Most probable word in class {} is \"{}\".'.format(newsgroups_data['target_names'][j],\n",
    "                                                           inv_vocabulary[ix]))"
   ]
  },
  {
   "cell_type": "code",
   "execution_count": 34,
   "metadata": {},
   "outputs": [],
   "source": [
    "# Define a distribution for each class\n",
    "\n",
    "batch_of_bernoullis = tfd.Bernoulli(probs=theta)\n",
    "p_x_given_y = tfd.Independent(batch_of_bernoullis,reinterpreted_batch_ndims=1)"
   ]
  },
  {
   "cell_type": "code",
   "execution_count": 35,
   "metadata": {},
   "outputs": [
    {
     "data": {
      "text/plain": [
       "TensorShape([10, 20, 56365])"
      ]
     },
     "execution_count": 35,
     "metadata": {},
     "output_type": "execute_result"
    }
   ],
   "source": [
    "# Take a sample of words from each class\n",
    "\n",
    "n_samples = 10\n",
    "sample = p_x_given_y.sample(n_samples)\n",
    "sample.shape\n"
   ]
  },
  {
   "cell_type": "code",
   "execution_count": 36,
   "metadata": {},
   "outputs": [
    {
     "data": {
      "text/plain": [
       "'soc.religion.christian'"
      ]
     },
     "execution_count": 36,
     "metadata": {},
     "output_type": "execute_result"
    }
   ],
   "source": [
    "# Choose a class\n",
    "\n",
    "chosen_class = 15\n",
    "newsgroups_data['target_names'][chosen_class]"
   ]
  },
  {
   "cell_type": "code",
   "execution_count": 37,
   "metadata": {},
   "outputs": [
    {
     "data": {
      "text/plain": [
       "<tf.Tensor: shape=(10, 56365), dtype=int32, numpy=\n",
       "array([[0, 0, 0, ..., 0, 0, 0],\n",
       "       [0, 0, 0, ..., 0, 0, 0],\n",
       "       [0, 0, 0, ..., 0, 0, 0],\n",
       "       ...,\n",
       "       [0, 0, 0, ..., 0, 0, 0],\n",
       "       [1, 0, 0, ..., 0, 0, 0],\n",
       "       [0, 0, 0, ..., 0, 0, 0]])>"
      ]
     },
     "execution_count": 37,
     "metadata": {},
     "output_type": "execute_result"
    }
   ],
   "source": [
    "# Indicators for words that appear in the sample\n",
    "\n",
    "class_sample = sample[:, chosen_class, :]\n",
    "class_sample"
   ]
  },
  {
   "cell_type": "code",
   "execution_count": 38,
   "metadata": {},
   "outputs": [
    {
     "data": {
      "text/plain": [
       "[array(['03', '09', '5of5', 'able', 'add', 'advocate', 'agony', 'alone',\n",
       "        'altogether', 'andy', 'aside', 'assume', 'been', 'before',\n",
       "        'better', 'bible', 'biblical', 'blood', 'boundary', 'cgsvax',\n",
       "        'changers', 'changes', 'christ', 'christian', 'chuck', 'clear',\n",
       "        'closed', 'create', 'deplorable', 'did', 'encounters',\n",
       "        'engineering', 'entirely', 'eventually', 'exhibit', 'existence',\n",
       "        'expressions', 'fell', 'fenholt', 'foard', 'form', 'garnet',\n",
       "        'germane', 'giving', 'god', 'grounds', 'group', 'guarding', 'hast',\n",
       "        'he', 'heart', 'him', 'his', 'homeland', 'however', 'idea',\n",
       "        'involved', 'jerry', 'jews', 'july', 'killed', 'language', 'later',\n",
       "        'lives', 'made', 'mail', 'many', 'mark', 'mateo', 'may', 'mention',\n",
       "        'messengers', 'might', 'moderate', 'mserv', 'muslim', 'night',\n",
       "        'nor', 'note', 'nothing', 'now', 'objection', 'occurred',\n",
       "        'offence', 'oh', 'opposition', 'others', 'own', 'particular',\n",
       "        'people', 'person', 'place', 'played', 'politician', 'possibly',\n",
       "        'previous', 'problems', 'promised', 'protestant', 'provine',\n",
       "        'pythagorean', 'questions', 'rather', 'read', 'reason',\n",
       "        'recognize', 'refer', 'religion', 'resentful', 'responses', 'rom',\n",
       "        'rose', 'rutgers', 'say', 'see', 'seen', 'since', 'steve', 'stint',\n",
       "        'such', 'supposed', 'take', 'talking', 'tasks', 'technical', 'tek',\n",
       "        'terrible', 'text', 'than', 'their', 'thing', 'things', 'think',\n",
       "        'those', 'thought', 'today', 'treat', 'trinity', 'understanding',\n",
       "        'use', 'uses', 'violence', 'wants', 'watching', 'well', 'where',\n",
       "        'why', 'woman', 'works', 'years'], dtype='<U80'),\n",
       " array(['14', '1993', '22', 'aa888', 'ak', 'ambiguous', 'another',\n",
       "        'anything', 'assumption', 'attained', 'babylonian', 'because',\n",
       "        'believe', 'body', 'bread', 'break', 'carnegie', 'claim',\n",
       "        'claimants', 'comments', 'content', 'contradict', 'damascus',\n",
       "        'death', 'denis', 'determined', 'devote', 'didn', 'discussion',\n",
       "        'disobedience', 'dotsonm', 'dt', 'effectively', 'effort',\n",
       "        'entirely', 'every', 'faith', 'feels', 'find', 'foster', 'founded',\n",
       "        'god', 'good', 'having', 'he', 'him', 'history', 'hoc', 'human',\n",
       "        'inner', 'its', 'kenneth', 'kids', 'left', 'lighting', 'll',\n",
       "        'looked', 'loose', 'lord', 'mail', 'may', 'mean', 'messiahs',\n",
       "        'mot', 'much', 'must', 'ncr', 'necessary', 'numbers', 'off',\n",
       "        'offend', 'our', 'outside', 'own', 'past', 'phone', 'please',\n",
       "        'possible', 'possibly', 'post', 'president', 'principles', 'proof',\n",
       "        'protective', 'proverbs', 'rather', 'readers', 'really', 'records',\n",
       "        'reduced', 'relativism', 'reproduce', 'resentful', 'revealed',\n",
       "        'rexlex', 'ride', 'sahs', 'satan', 'say', 'scientist', 'seen',\n",
       "        'sees', 'sense', 'share', 'sig', 'sil', 'simply', 'sit', 'solving',\n",
       "        'somehow', 'specifically', 'spiritual', 'stations', 'succumbing',\n",
       "        'superiority', 'tell', 'than', 'them', 'therefore', 'these',\n",
       "        'tomorrow', 'training', 'truth', 'two', 'ultimately',\n",
       "        'understanding', 'upon', 'use', 'waco', 'watson', 'way', 'ways',\n",
       "        'week', 'while', 'why', 'withdraw', 'won', 'working', 'wrote',\n",
       "        'york', 'youngstown'], dtype='<U80'),\n",
       " array(['10', '1993', '99', '_me_', 'ability', 'above', 'accept',\n",
       "        'acknowledge', 'advice', 'ai', 'also', 'amateur', 'argument',\n",
       "        'athens', 'attempts', 'been', 'better', 'biosphere', 'blood',\n",
       "        'bouncing', 'brothers', 'ca', 'called', 'caused', 'christian',\n",
       "        'clarified', 'cliche', 'confession', 'congregations', 'contrast',\n",
       "        'could', 'counts', 'days', 'dcs', 'deluding', 'desire',\n",
       "        'destruction', 'double', 'each', 'else', 'eola', 'epistles',\n",
       "        'establishing', 'even', 'every', 'ex', 'explained', 'family',\n",
       "        'fate', 'feel', 'fellowship', 'find', 'forgotten', 'freely',\n",
       "        'geneva', 'great', 'greater', 'group', 'hair', 'he', 'him', 'his',\n",
       "        'hit', 'honestly', 'ideas', 'imbecile', 'institution', 'invalid',\n",
       "        'involving', 'life', 'lift', 'longer', 'loving', 'made', 'male',\n",
       "        'mandate', 'marry', 'masses', 'matt', 'may', 'messenger', 'minute',\n",
       "        'missed', 'modern', 'most', 'mot', 'mysteries', 'near', 'ours',\n",
       "        'pass', 'passion', 'people', 'person', 'pgh', 'philosophical',\n",
       "        'philosophy', 'point', 'positions', 'possibilities', 'practice',\n",
       "        'prayers', 'problems', 'provide', 'pucc', 'question', 'real',\n",
       "        'regulation', 'riches', 'rise', 'satanic', 'say', 'says', 'social',\n",
       "        'songs', 'span', 'state', 'statement', 'stating', 'std', 'stole',\n",
       "        'student', 'studies', 'such', 'tellabs', 'testament', 'than',\n",
       "        'therefore', 'thinking', 'though', 'tiny', 'two', 'universe', 'us',\n",
       "        've', 'very', 'virgilio', 'want', 'wanted', 'wants', 'way',\n",
       "        'whatever', 'without', 'writing', 'years'], dtype='<U80'),\n",
       " array(['14', '15', '73', 'actions', 'ad', 'admit', 'agony', 'alone', 'am',\n",
       "        'ambiguous', 'ask', 'atlastele', 'basic', 'beacuse', 'belief',\n",
       "        'both', 'burns', 'ca', 'call', 'cannot', 'casting', 'catholic',\n",
       "        'christian', 'christians', 'churches', 'claim', 'claremont',\n",
       "        'class', 'combine', 'computer', 'concerning', 'concerns',\n",
       "        'conclusion', 'confess', 'contrary', 'corresponding', 'cover',\n",
       "        'cute', 'david', 'declare', 'deed', 'depth', 'did', 'differences',\n",
       "        'domain', 'earning', 'ecn', 'english', 'equivalent', 'etc',\n",
       "        'exactly', 'far', 'fsu', 'god', 'granted', 'had', 'haven', 'he',\n",
       "        'head', 'here', 'him', 'home', 'humanity', 'humor', 'into',\n",
       "        'jewish', 'john', 'joseph', 'joshua', 'jprzybyl', 'judaism',\n",
       "        'keep', 'ken', 'kentucky', 'lab', 'later', 'left', 'local', 'ltd',\n",
       "        'made', 'male', 'many', 'marine', 'mean', 'meaningful', 'much',\n",
       "        'nih', 'norway', 'oregon', 'own', 'passage', 'people', 'perhaps',\n",
       "        'persecutions', 'postulate', 'probably', 'promises', 'rather',\n",
       "        'reference', 'regularly', 'reply', 'representations', 'scientific',\n",
       "        'scribes', 'scripture', 'self', 'seperate', 'solomon', 'spoke',\n",
       "        'statement', 'stops', 'talks', 'technology', 'than', 'thanks',\n",
       "        'their', 'them', 'therefore', 'think', 'true', 'trying', 'unomaha',\n",
       "        'until', 'uses', 'wasn', 'weight', 'weirdness', 'well', 'where',\n",
       "        'withstanding', 'won', 'worships', 'wrong'], dtype='<U80'),\n",
       " array(['05', '10', '21', '29266', '33', '96', 'account', 'address',\n",
       "        'after', 'ago', 'agree', 'also', 'apr', 'att', 'austin', 'back',\n",
       "        'being', 'believe', 'believes', 'bible', 'bless', 'body', 'both',\n",
       "        'bothers', 'broadway', 'called', 'changed', 'chris', 'christian',\n",
       "        'church', 'clarify', 'clh', 'computer', 'conclusion', 'creation',\n",
       "        'death', 'dei', 'did', 'discussing', 'discussions', 'early',\n",
       "        'effort', 'else', 'excommunicated', 'faith', 'false', 'fl',\n",
       "        'forget', 'found', 'frightening', 'fsspr', 'fundamental', 'geneva',\n",
       "        'god', 'good', 'grace', 'guild', 'had', 'hardly', 'having',\n",
       "        'hominem', 'information', 'issue', 'jewish', 'john', 'justify',\n",
       "        'little', 'long', 'look', 'made', 'make', 'making', 'marv',\n",
       "        'mentioning', 'messages', 'minimal', 'netters', 'nice', 'nj',\n",
       "        'obviously', 'ohio', 'ones', 'opinions', 'pa', 'pain', 'people',\n",
       "        'perceptions', 'phase', 'point', 'press', 'presume', 'problem',\n",
       "        'promoting', 'pronouncements', 'proper', 'psalm', 'put', 'quality',\n",
       "        'random', 'read', 'resurrected', 'revolutionary', 'righteous',\n",
       "        'same', 'say', 'seem', 'sends', 'server', 'shows', 'sit', 'sort',\n",
       "        'starters', 'such', 'summer', 'super', 'suppose', 'syria',\n",
       "        'system', 'talk', 'teaching', 'think', 'thomas', 'three', 'time',\n",
       "        'together', 'translation', 'trauma', 'uncharitable', 'unto',\n",
       "        'used', 'validated', 'victories', 'vulgata', 'wants', 'well',\n",
       "        'were', 'while', 'wish', 'worth', 'wycliffe', 'yes'], dtype='<U80'),\n",
       " array(['08', '13', '34', '42', '55', 'aaronc', 'accepted', 'accepting',\n",
       "        'according', 'account', 'address', 'after', 'allows', 'ambiguous',\n",
       "        'among', 'anglican', 'anyone', 'argument', 'around', 'atheists',\n",
       "        'basis', 'because', 'bliss', 'brotherman', 'bunny', 'came',\n",
       "        'carnegie', 'central', 'ceremonial', 'choose', 'christ',\n",
       "        'christian', 'christie', 'connection', 'correction', 'cs', 'cwru',\n",
       "        'decades', 'deserved', 'die', 'difference', 'disciplines', 'each',\n",
       "        'ended', 'errors', 'established', 'ever', 'faith', 'fertility',\n",
       "        'first', 'former', 'friend', 'full', 'glass', 'god', 'going',\n",
       "        'had', 'hard', 'he', 'help', 'hide', 'hills', 'hold', 'idea',\n",
       "        'included', 'inherited', 'interesting', 'ironic', 'isn', 'israel',\n",
       "        'laws', 'leo', 'let', 'll', 'look', 'made', 'marriage', 'meant',\n",
       "        'meet', 'millions', 'mp', 'ms', 'muslims', 'must', 'necessary',\n",
       "        'neighbor', 'nonsense', 'now', 'obey', 'old', 'part', 'passion',\n",
       "        'paul', 'penetration', 'personal', 'pilate', 'plain', 'point',\n",
       "        'preaching', 'question', 'reach', 'read', 'referee', 'regarded',\n",
       "        'religious', 'reply', 'research', 'revealed', 'rintintin', 'ruler',\n",
       "        'rutgers', 'satisfy', 'say', 'seen', 'sense', 'several', 'sexes',\n",
       "        'should', 'sociology', 'sort', 'spot', 'spring', 'sunday',\n",
       "        'surely', 'syllable', 'teaching', 'their', 'them', 'though',\n",
       "        'through', 'time', 'trunking_fixed', 'trying', 'tsd',\n",
       "        'unqualified', 'use', 'uxa', 'warmly', 'way', 'why', 'wish',\n",
       "        'witt'], dtype='<U80'),\n",
       " array(['05', '113', '17', '1993', '22', '33', '68', 'able', 'accurate',\n",
       "        'against', 'allow', 'am', 'american', 'annihilation', 'answers',\n",
       "        'atheist', 'att', 'bad', 'became', 'been', 'before', 'being',\n",
       "        'believe', 'bible', 'book', 'brought', 'chest', 'children',\n",
       "        'christ', 'class', 'connection', 'considered', 'construct',\n",
       "        'consultant', 'damn', 'decided', 'difference', 'dismay',\n",
       "        'distinction', 'doctrine_', 'doctrines', 'doens', 'doing',\n",
       "        'easier', 'eeap', 'embroiled', 'emphasis', 'eng', 'entering',\n",
       "        'every', 'facts', 'faith', 'false', 'feeling', 'first',\n",
       "        'fostering', 'fraser', 'garden', 'gatech', 'georgia', 'give',\n",
       "        'gmt', 'god', 'he', 'her', 'him', 'improved', 'indicates',\n",
       "        'interpreters', 'intrinsically', 'iterations', 'keep', 'language',\n",
       "        'leaders', 'least', 'legal', 'longer', 'lot', 'lovey', 'ma',\n",
       "        'many', 'might', 'military', 'mind', 'moreover', 'much', 'must',\n",
       "        'myself', 'n7104', 'nebraska', 'nickel', 'obvious', 'off',\n",
       "        'oppress', 'order', 'our', 'own', 'paradise', 'past', 'perry',\n",
       "        'programs', 'pure', 'rather', 'real', 'recently', 'reduced',\n",
       "        'rock', 'rule', 'rutgers', 'said', 'scripture', 'see', 'sent',\n",
       "        'shaken', 'siemon', 'simply', 'sin', 'source', 'spain', 'split',\n",
       "        'sps', 'stephen', 'stuff', 'such', 'superstar', 'suspicion',\n",
       "        'tbrent', 'terms', 'than', 'themselves', 'then', 'think', 'those',\n",
       "        'time', 'virgilio', 'virgin', 'way', 'ways', 'webb', 'welcome',\n",
       "        'were', 'whatever', 'whom', 'whose', 'won', 'word', 'wrote'],\n",
       "       dtype='<U80'),\n",
       " array(['10', '12', '16', '45', '512', '5of5', '756', '823', 'abstinence',\n",
       "        'accepted', 'acns', 'also', 'always', 'am', 'among', 'approaches',\n",
       "        'argument', 'association', 'assumes', 'atheist', 'attend', 'badly',\n",
       "        'belief', 'believe', 'book', 'books', 'capacity', 'cat',\n",
       "        'changing', 'christ', 'christians', 'church', 'context', 'cows',\n",
       "        'crowd', 'delab', 'directly', 'divorce', 'doctrine', 'document',\n",
       "        'early', 'endorsement', 'entity', 'especially', 'evidence',\n",
       "        'faith', 'felt', 'fence', 'follow', 'force', 'fortunately',\n",
       "        'gazing', 'give', 'god', 'good', 'grade', 'hell', 'however',\n",
       "        'husband', 'inanimate', 'interested', 'jesus', 'john', 'judge',\n",
       "        'judgment', 'justified', 'kind', 'knight', 'landing', 'law',\n",
       "        'leaders', 'lies', 'little', 'make', 'makes', 'manner', 'maryland',\n",
       "        'mass', 'means', 'medical', 'messiah', 'money', 'mystery', 'need',\n",
       "        'net', 'new', 'newsgroup', 'nothing', 'nt', 'onto', 'our',\n",
       "        'paragraphs', 'peace', 'people', 'phrases', 'pihatie', 'point',\n",
       "        'probably', 'problem', 'prophesies', 'publisher', 'references',\n",
       "        'related', 'rely', 'revolve', 'righteousness', 'rise', 'role',\n",
       "        'rom', 'ruling', 'rutgers', 'say', 'sign', 'sin', 'someone',\n",
       "        'soon', 'st', 'started', 'such', 'sunday', 'surface', 'tails',\n",
       "        'technology', 'testimony', 'their', 'them', 'then', 'thinking',\n",
       "        'thought', 'time', 'topic', 'trigger', 'uga', 'upenn', 'want',\n",
       "        'were', 'women', 'yourself'], dtype='<U80'),\n",
       " array(['00', '02', '1373', '1500', '22', '25', '51', '601', '75', '_all_',\n",
       "        'account', 'accused', 'active', 'africa', 'after', 'alone', 'also',\n",
       "        'always', 'am', 'amateur', 'andy', 'answer', 'answered', 'beating',\n",
       "        'been', 'believe', 'blessing', 'blessings', 'born', 'bother',\n",
       "        'bothering', 'brought', 'carderock', 'certain', 'christ',\n",
       "        'christian', 'church', 'claim', 'cmu', 'concise', 'continue',\n",
       "        'crew', 'dead', 'destroyed', 'discovery', 'disturbed', 'dsegard',\n",
       "        'eeap', 'email', 'empowers', 'even', 'ever', 'existence', 'feel',\n",
       "        'find', 'fruit', 'given', 'god', 'going', 'grown', 'hair',\n",
       "        'happens', 'having', 'he', 'held', 'hell_2', 'hello', 'help',\n",
       "        'here', 'holy', 'ideological', 'ignore', 'important', 'including',\n",
       "        'incorporate', 'jayne', 'jeezus', 'joe', 'johnson', 'judgement',\n",
       "        'learn', 'less', 'let', 'likely', 'logic', 'lord', 'love',\n",
       "        'making', 'mandated', 'meaning', 'members', 'mention', 'mess',\n",
       "        'misunderstanding', 'model', 'moral', 'most', 'music', 'must',\n",
       "        'mysticism', 'nothing', 'nt', 'operate', 'organized', 'original',\n",
       "        'outside', 'overall', 'paganism', 'peace', 'people', 'person',\n",
       "        'pore', 'practically', 'preaching', 'presenting', 'prophets',\n",
       "        'questioning', 'reading', 'referenced', 'remarkably', 'said',\n",
       "        'salvation', 'saved', 'say', 'saying', 'says', 'seems',\n",
       "        'seriously', 'show', 'slightly', 'sounds', 'summer', 'taken',\n",
       "        'teaching', 'their', 'these', 'think', 'those', 'time', 'today',\n",
       "        'trying', 'uga', 'undecided', 'uxa', 'were', 'whether', 'without',\n",
       "        'witness', 'yet'], dtype='<U80'),\n",
       " array(['03', '1990', '35', '56', '649', 'accept', 'actual', 'address',\n",
       "        'also', 'ambiguous', 'assume', 'attack', 'au', 'awareness', 'bad',\n",
       "        'because', 'before', 'beginning', 'being', 'boiling', 'born',\n",
       "        'called', 'cannot', 'caralv', 'causality', 'certain', 'christians',\n",
       "        'christmas', 'chuck', 'circa', 'clay', 'comments', 'common',\n",
       "        'connection', 'conservative', 'contradicts', 'cool', 'could',\n",
       "        'crop', 'crusaders', 'damage', 'death', 'decision', 'disorganized',\n",
       "        'dlecoint', 'done', 'drawer', 'drive', 'each', 'early', 'easy',\n",
       "        'ensure', 'exactly', 'except', 'explain', 'expressed', 'false',\n",
       "        'far', 'fervent', 'forever', 'forgiving', 'give', 'go', 'god',\n",
       "        'good', 'here', 'him', 'however', 'humans', 'illogic',\n",
       "        'indicating', 'intentions', 'interest', 'isa', 'ishtar',\n",
       "        'isolation', 'jodfishe', 'kinds', 'learned', 'least', 'legal',\n",
       "        'letter', 'living', 'loaded', 'lord', 'made', 'matter', 'may',\n",
       "        'mean', 'million', 'mmh', 'much', 'name', 'net', 'normally', 'ns',\n",
       "        'obedience', 'obey', 'offenders', 'opinion', 'p5', 'parents',\n",
       "        'part', 'particularly', 'pass', 'perception', 'person', 'ph',\n",
       "        'physical', 'planted', 'point', 'possibility', 'prophets', 'quite',\n",
       "        'quran', 'rage', 'reading', 'real', 'reason', 'reformation',\n",
       "        'relationship', 'religious', 'require', 'restrains', 'resurrected',\n",
       "        'resurrection', 'right', 'said', 'say', 'security', 'see', 'since',\n",
       "        'situations', 'slow', 'someone', 'son', 'spoken', 'square',\n",
       "        'stuff', 'submission', 'such', 'super', 'sure', 'teach', 'tend',\n",
       "        'terrance', 'thank', 'theologically', 'therefore', 'thing',\n",
       "        'things', 'those', 'thought', 'told', 'true', 'universe', 'use',\n",
       "        'valid', 'views', 'vows', 'walks', 'washington', 'where', 'whole',\n",
       "        'without', 'withstanding', 'won', 'word', 'worship', 'written',\n",
       "        'young'], dtype='<U80')]"
      ]
     },
     "execution_count": 38,
     "metadata": {},
     "output_type": "execute_result"
    }
   ],
   "source": [
    "# Perform inverse transform to test quality of fit\n",
    "count_vectorizer.inverse_transform(class_sample)\n"
   ]
  },
  {
   "cell_type": "markdown",
   "metadata": {},
   "source": [
    "***\n",
    "<a id='sampling_and_log_probs'></a>\n",
    "## Sampling and log probs"
   ]
  },
  {
   "cell_type": "code",
   "execution_count": 3,
   "metadata": {},
   "outputs": [
    {
     "data": {
      "text/plain": [
       "<tfp.distributions.MultivariateNormalDiag 'MultivariateNormalDiag' batch_shape=[3] event_shape=[2] dtype=float32>"
      ]
     },
     "execution_count": 3,
     "metadata": {},
     "output_type": "execute_result"
    }
   ],
   "source": [
    "# Make Multivariate Distribution\n",
    "\n",
    "normal_distributions = tfd.MultivariateNormalDiag(loc=[[0.5, 1], [0.1, 0], [0, 0.2]],\n",
    "                                 scale_diag=[[2, 3], [1, 3], [4, 4]])\n",
    "normal_distributions"
   ]
  },
  {
   "cell_type": "code",
   "execution_count": 4,
   "metadata": {},
   "outputs": [
    {
     "data": {
      "text/plain": [
       "<tf.Tensor: shape=(5, 3, 2), dtype=float32, numpy=\n",
       "array([[[-1.2961674 , -4.477743  ],\n",
       "        [-0.34441808, -4.4648843 ],\n",
       "        [-3.1421852 ,  0.9847862 ]],\n",
       "\n",
       "       [[ 0.8520931 , -3.5757523 ],\n",
       "        [ 0.73529404,  2.0043614 ],\n",
       "        [ 5.6922107 ,  0.38246575]],\n",
       "\n",
       "       [[ 0.06614587, -4.125472  ],\n",
       "        [ 0.61741614, -0.35916954],\n",
       "        [-4.245635  , -1.9636502 ]],\n",
       "\n",
       "       [[ 0.6721385 , -2.83458   ],\n",
       "        [-0.29498634,  1.5767398 ],\n",
       "        [-0.02867545, -3.6013174 ]],\n",
       "\n",
       "       [[-1.9095645 ,  1.0512418 ],\n",
       "        [ 0.13989209, -1.9639037 ],\n",
       "        [-2.5538137 ,  4.828182  ]]], dtype=float32)>"
      ]
     },
     "execution_count": 4,
     "metadata": {},
     "output_type": "execute_result"
    }
   ],
   "source": [
    "# Sample\n",
    "\n",
    "normal_distributions.sample(5)"
   ]
  },
  {
   "cell_type": "code",
   "execution_count": 6,
   "metadata": {},
   "outputs": [
    {
     "data": {
      "text/plain": [
       "<tfp.distributions.MultivariateNormalDiag 'MultivariateNormalDiag' batch_shape=[2, 2] event_shape=[3] dtype=float32>"
      ]
     },
     "execution_count": 6,
     "metadata": {},
     "output_type": "execute_result"
    }
   ],
   "source": [
    "# Multivariate Normal batched Distribution\n",
    "# We are broadcasting batch shapes of `loc` and `scal_diag` \n",
    "# against each other\n",
    "\n",
    "loc = [[[0.3, 1.5, 1.], [0.2, 0.4, 2.8]],\n",
    "        [[2., 2.3, 8], [1.4, 1, 1.3]]] #2x2x3\n",
    "scale_diag = [0.4, 1., 0.7] #3 => this will be event shape as it matches the 3 in the loc and 2x2 from loc\n",
    "                            # will be broadcast as batch\n",
    "#TF will interprete final axis as event dimensions and broadcast over other dimensions hence event shape is 3 \n",
    "# and batch shape is 2x2\n",
    "normal_distributions = tfd.MultivariateNormalDiag(loc=loc, scale_diag=scale_diag)\n",
    "normal_distributions"
   ]
  },
  {
   "cell_type": "code",
   "execution_count": 12,
   "metadata": {},
   "outputs": [
    {
     "data": {
      "text/plain": [
       "<tfp.distributions.Independent 'IndependentMultivariateNormalDiag' batch_shape=[2] event_shape=[2, 3] dtype=float32>"
      ]
     },
     "execution_count": 12,
     "metadata": {},
     "output_type": "execute_result"
    }
   ],
   "source": [
    "# Use independent to move part of the batch shape\n",
    "ind_norm_dist = tfd.Independent(normal_distributions,reinterpreted_batch_ndims=1)\n",
    "ind_norm_dist"
   ]
  },
  {
   "cell_type": "code",
   "execution_count": 14,
   "metadata": {},
   "outputs": [
    {
     "data": {
      "text/plain": [
       "TensorShape([5, 2, 2, 3])"
      ]
     },
     "execution_count": 14,
     "metadata": {},
     "output_type": "execute_result"
    }
   ],
   "source": [
    "# Draw some samples\n",
    "samples = ind_norm_dist.sample(5)\n",
    "samples.shape"
   ]
  },
  {
   "cell_type": "code",
   "execution_count": 15,
   "metadata": {},
   "outputs": [
    {
     "data": {
      "text/plain": [
       "<tf.Tensor: shape=(2,), dtype=float32, numpy=array([ -9.249443, -82.95308 ], dtype=float32)>"
      ]
     },
     "execution_count": 15,
     "metadata": {},
     "output_type": "execute_result"
    }
   ],
   "source": [
    "# `[B, E]` shaped input\n",
    "inp = tf.random.uniform((2,2,3))\n",
    "ind_norm_dist.log_prob(inp)"
   ]
  },
  {
   "cell_type": "code",
   "execution_count": 16,
   "metadata": {},
   "outputs": [
    {
     "data": {
      "text/plain": [
       "<tf.Tensor: shape=(2,), dtype=float32, numpy=array([-12.21836, -76.47743], dtype=float32)>"
      ]
     },
     "execution_count": 16,
     "metadata": {},
     "output_type": "execute_result"
    }
   ],
   "source": [
    "# `[E]` shaped input (broadcasting over batch size)\n",
    "inp = tf.random.uniform((2,3))\n",
    "ind_norm_dist.log_prob(inp)\n"
   ]
  },
  {
   "cell_type": "code",
   "execution_count": 17,
   "metadata": {},
   "outputs": [
    {
     "data": {
      "text/plain": [
       "<tf.Tensor: shape=(9, 2), dtype=float32, numpy=\n",
       "array([[-12.346934 , -75.82132  ],\n",
       "       [ -9.219299 , -68.41179  ],\n",
       "       [-11.264252 , -74.82004  ],\n",
       "       [ -8.997164 , -71.74683  ],\n",
       "       [-10.196988 , -77.040634 ],\n",
       "       [ -7.6592016, -66.32788  ],\n",
       "       [ -8.773142 , -68.0021   ],\n",
       "       [ -9.34268  , -80.00111  ],\n",
       "       [-12.904864 , -77.65915  ]], dtype=float32)>"
      ]
     },
     "execution_count": 17,
     "metadata": {},
     "output_type": "execute_result"
    }
   ],
   "source": [
    "#`[S, B, E]` shaped input (broadcasting over samples)\n",
    "inp = tf.random.uniform((9,2,2,3))\n",
    "ind_norm_dist.log_prob(inp)\n"
   ]
  },
  {
   "cell_type": "code",
   "execution_count": 18,
   "metadata": {},
   "outputs": [
    {
     "data": {
      "text/plain": [
       "<tf.Tensor: shape=(5, 2), dtype=float32, numpy=\n",
       "array([[ -9.898296, -58.255592],\n",
       "       [-10.151201, -81.675095],\n",
       "       [-10.802556, -83.659615],\n",
       "       [ -9.708892, -70.171936],\n",
       "       [ -9.56962 , -61.00851 ]], dtype=float32)>"
      ]
     },
     "execution_count": 18,
     "metadata": {},
     "output_type": "execute_result"
    }
   ],
   "source": [
    "# `[S, b, e]` shaped input, where [b, e] is broadcastable over [B, E]\n",
    "inp = tf.random.uniform((5,1,2,1))\n",
    "ind_norm_dist.log_prob(inp)\n"
   ]
  },
  {
   "cell_type": "markdown",
   "metadata": {},
   "source": [
    "#### Naive Bayes example\n",
    "\n",
    "Lets now use what we have learned and continue the Naive Bayes classifier we were building last tutorial."
   ]
  },
  {
   "cell_type": "code",
   "execution_count": 19,
   "metadata": {},
   "outputs": [],
   "source": [
    "from sklearn.datasets import fetch_20newsgroups\n",
    "from sklearn.feature_extraction.text import CountVectorizer\n",
    "from sklearn.naive_bayes import BernoulliNB\n",
    "from sklearn.metrics import f1_score"
   ]
  },
  {
   "cell_type": "code",
   "execution_count": 20,
   "metadata": {},
   "outputs": [],
   "source": [
    "# Making a function get_data which:\n",
    "#   1) Fetches the 20 newsgroup dataset\n",
    "#   2) Performs a word count on the articles and binarizes the result\n",
    "#   3) Returns the data as a numpy matrix with the labels\n",
    "\n",
    "def get_data(categories):\n",
    "    \n",
    "    newsgroups_train_data = fetch_20newsgroups(data_home='20_Newsgroup_Data/',\n",
    "                                               subset='train', categories=categories)\n",
    "    newsgroups_test_data = fetch_20newsgroups(data_home='20_Newsgroup_Data/',\n",
    "                                              subset='test', categories=categories)\n",
    "\n",
    "    n_documents = len(newsgroups_train_data['data'])\n",
    "    count_vectorizer = CountVectorizer(input='content', binary=True,max_df=0.25, min_df=1.01/n_documents)\n",
    "    \n",
    "    train_binary_bag_of_words = count_vectorizer.fit_transform(newsgroups_train_data['data'])\n",
    "    test_binary_bag_of_words = count_vectorizer.transform(newsgroups_test_data['data']) \n",
    "\n",
    "    return (train_binary_bag_of_words.todense(), newsgroups_train_data['target']),  (test_binary_bag_of_words.todense(), newsgroups_test_data['target'])"
   ]
  },
  {
   "cell_type": "code",
   "execution_count": 21,
   "metadata": {},
   "outputs": [],
   "source": [
    "# Defining a function to conduct Laplace smoothing. This adds a base level of probability for a given feature\n",
    "# to occur in every class.\n",
    "\n",
    "def laplace_smoothing(labels, binary_data, n_classes):\n",
    "    # Compute the parameter estimates (adjusted fraction of documents in class that contain word)\n",
    "    n_words = binary_data.shape[1]\n",
    "    alpha = 1 # parameters for Laplace smoothing\n",
    "    theta = np.zeros([n_classes, n_words]) # stores parameter values - prob. word given class\n",
    "    for c_k in range(n_classes): # 0, 1, ..., 19\n",
    "        class_mask = (labels == c_k)\n",
    "        N = class_mask.sum() # number of articles in class\n",
    "        theta[c_k, :] = (binary_data[class_mask, :].sum(axis=0) + alpha)/(N + alpha*2)\n",
    "\n",
    "    return theta"
   ]
  },
  {
   "cell_type": "code",
   "execution_count": 22,
   "metadata": {},
   "outputs": [
    {
     "name": "stderr",
     "output_type": "stream",
     "text": [
      "Downloading 20news dataset. This may take a few minutes.\n",
      "Downloading dataset from https://ndownloader.figshare.com/files/5975967 (14 MB)\n"
     ]
    }
   ],
   "source": [
    "# Getting a subset of the 20 newsgroup dataset\n",
    "\n",
    "categories = ['alt.atheism', 'talk.religion.misc', 'comp.graphics', 'sci.space']\n",
    "\n",
    "(train_data, train_labels), (test_data, test_labels) = get_data(categories=categories)\n",
    "smoothed_counts = laplace_smoothing(labels=train_labels, binary_data=train_data, n_classes=len(categories))"
   ]
  },
  {
   "cell_type": "markdown",
   "metadata": {},
   "source": [
    "To now make our NB classifier we need to build three functions:\n",
    "* Compute the class priors\n",
    "* Build our class conditional distributions\n",
    "* Put it all together and classify our data"
   ]
  },
  {
   "cell_type": "code",
   "execution_count": 23,
   "metadata": {},
   "outputs": [],
   "source": [
    "# Function which computes the prior probability of every class based on frequency of occurence in \n",
    "# the dataset\n",
    "\n",
    "def class_priors(n_classes, labels):\n",
    "    counts = np.zeros(n_classes)\n",
    "    for c_k in range(n_classes):\n",
    "        counts[c_k] = np.sum(np.where(labels==c_k, 1, 0))\n",
    "    priors = counts / np.sum(counts)\n",
    "    print('The class priors are {}'.format(priors))\n",
    "    return priors"
   ]
  },
  {
   "cell_type": "code",
   "execution_count": 24,
   "metadata": {},
   "outputs": [
    {
     "name": "stdout",
     "output_type": "stream",
     "text": [
      "The class priors are [0.2359882  0.28711898 0.29154376 0.18534907]\n"
     ]
    }
   ],
   "source": [
    "# Run the function \n",
    "\n",
    "priors = class_priors(n_classes=len(categories), labels=train_labels)"
   ]
  },
  {
   "cell_type": "code",
   "execution_count": 26,
   "metadata": {},
   "outputs": [
    {
     "data": {
      "text/plain": [
       "<tfp.distributions.Independent 'IndependentBernoulli' batch_shape=[4] event_shape=[17495] dtype=int32>"
      ]
     },
     "execution_count": 26,
     "metadata": {},
     "output_type": "execute_result"
    }
   ],
   "source": [
    "# Now we will do a function that given the feature occurence counts returns a Bernoulli distribution of \n",
    "# batch_shape=number of classes and event_shape=number of features.\n",
    "\n",
    "def make_distributions(probs):\n",
    "    batch_of_bern = tfd.Bernoulli(probs = probs)\n",
    "    dist = tfd.Independent(batch_of_bern, reinterpreted_batch_ndims=1)\n",
    "    return dist\n",
    "\n",
    "tf_dist = make_distributions(smoothed_counts)\n",
    "tf_dist\n"
   ]
  },
  {
   "cell_type": "code",
   "execution_count": 27,
   "metadata": {},
   "outputs": [],
   "source": [
    "# The final function predict_sample which given the distribution, a test sample, and the class priors:\n",
    "#   1) Computes the class conditional probabilities given the sample\n",
    "#   2) Forms the joint likelihood\n",
    "#   3) Normalises the joint likelihood and returns the log prob\n",
    "\n",
    "def predict_sample(dist, sample, priors):\n",
    "    cond_probs = dist.log_prob(sample)\n",
    "    joint_likelihiid = tf.add(np.log(priors), cond_probs)\n",
    "    norm_factor = tf.math.reduce_logsumexp(joint_likelihiid, axis=-1, keepdims=True)\n",
    "    log_prob = joint_likelihiid-norm_factor\n",
    "    \n",
    "    return log_prob\n"
   ]
  },
  {
   "cell_type": "markdown",
   "metadata": {},
   "source": [
    "#### Computing log_probs"
   ]
  },
  {
   "cell_type": "code",
   "execution_count": 29,
   "metadata": {},
   "outputs": [
    {
     "data": {
      "text/plain": [
       "<tf.Tensor: shape=(4,), dtype=float32, numpy=\n",
       "array([-6.1736374e+01, -1.5258789e-05, -1.1620026e+01, -6.3327866e+01],\n",
       "      dtype=float32)>"
      ]
     },
     "execution_count": 29,
     "metadata": {},
     "output_type": "execute_result"
    }
   ],
   "source": [
    "# Predicting one example from our test data\n",
    "log_probs = predict_sample(tf_dist, test_data[0], priors)\n",
    "log_probs"
   ]
  },
  {
   "cell_type": "code",
   "execution_count": 30,
   "metadata": {},
   "outputs": [
    {
     "name": "stdout",
     "output_type": "stream",
     "text": [
      "f1  0.7848499112849504\n"
     ]
    }
   ],
   "source": [
    "# Loop over our test data and classify.\n",
    "\n",
    "probabilities = []\n",
    "for sample, label in zip(test_data, test_labels):\n",
    "    probabilities.append(tf.exp(predict_sample(tf_dist, sample, priors)))\n",
    "\n",
    "probabilities = np.asarray(probabilities)\n",
    "predicted_classes = np.argmax(probabilities, axis =-1)\n",
    "print('f1 ', f1_score(test_labels, predicted_classes, average='macro'))"
   ]
  },
  {
   "cell_type": "code",
   "execution_count": 31,
   "metadata": {},
   "outputs": [
    {
     "name": "stdout",
     "output_type": "stream",
     "text": [
      "f1 from sklean  0.7848499112849504\n"
     ]
    }
   ],
   "source": [
    "# Make a Bernoulli Naive Bayes classifier using sklearn with the same level of alpha smoothing. \n",
    "\n",
    "clf = BernoulliNB(alpha=1)\n",
    "clf.fit(train_data, train_labels)\n",
    "pred = clf.predict(test_data)\n",
    "print('f1 from sklean ', f1_score(test_labels, pred, average='macro'))"
   ]
  },
  {
   "cell_type": "markdown",
   "metadata": {},
   "source": [
    "***\n",
    "<a id='trainable_distributions'></a>\n",
    "## Trainable Distributions"
   ]
  },
  {
   "cell_type": "code",
   "execution_count": 32,
   "metadata": {},
   "outputs": [],
   "source": [
    "from sklearn.datasets import fetch_20newsgroups\n",
    "from sklearn.feature_extraction.text import CountVectorizer\n",
    "from sklearn.naive_bayes import BernoulliNB\n",
    "from sklearn.metrics import f1_score"
   ]
  },
  {
   "cell_type": "code",
   "execution_count": 35,
   "metadata": {},
   "outputs": [],
   "source": [
    "# Define an exponential distribution\n",
    "# We will need to estimate distribution parameters via gradient descent\n",
    "# example:we could have distributions over network weights \n",
    "# In this exercise we can compute underlying parameters directly from the data.\n",
    "# we can compare the results we can get via optimization with the ground truth values\n",
    "\n",
    "exponential = tfd.Exponential(rate=0.3, name = 'exp')\n"
   ]
  },
  {
   "cell_type": "code",
   "execution_count": 36,
   "metadata": {},
   "outputs": [
    {
     "data": {
      "image/png": "[encoded data removed]",
      "text/plain": [
       "<Figure size 432x288 with 1 Axes>"
      ]
     },
     "metadata": {
      "needs_background": "light"
     },
     "output_type": "display_data"
    }
   ],
   "source": [
    "# Plot\n",
    "\n",
    "plt.hist(exponential.sample(5000), bins=100, density=True)\n",
    "plt.show()"
   ]
  },
  {
   "cell_type": "code",
   "execution_count": 37,
   "metadata": {},
   "outputs": [
    {
     "data": {
      "text/plain": [
       "(<tf.Variable 'rate:0' shape=() dtype=float32, numpy=1.0>,)"
      ]
     },
     "execution_count": 37,
     "metadata": {},
     "output_type": "execute_result"
    }
   ],
   "source": [
    "# Define an exponential distribution with a trainable rate parameter\n",
    "# Lets say we have this data that we drew from the exponential and want to build a model of the \n",
    "# underlying exponential function. In other words, obtain estimate of the rate parameter.\n",
    "\n",
    "exp_train = tfd.Exponential(rate=tf.Variable(1., name='rate'), name='exp_train')\n",
    "exp_train.trainable_variables"
   ]
  },
  {
   "cell_type": "code",
   "execution_count": 52,
   "metadata": {},
   "outputs": [],
   "source": [
    "# Define the negative log likelihood\n",
    "def nll(x_train, distribution):\n",
    "    return -tf.reduce_mean(distribution.log_prob(x_train))\n",
    "# negative log likelihood => take log of the output and negate it. For any function when comparing "
   ]
  },
  {
   "cell_type": "code",
   "execution_count": 53,
   "metadata": {},
   "outputs": [],
   "source": [
    "# Define a function to compute the loss and gradients\n",
    "@tf.function\n",
    "def get_loss_and_grads(x_train, distribution):\n",
    "    with tf.GradientTape() as tape:\n",
    "        tape.watch(distribution.trainable_variables)\n",
    "        loss = nll(x_train, distribution)\n",
    "        grads = tape.gradient(loss,distribution.trainable_variables) #this is where the heavy computation happens\n",
    "    return loss, grads"
   ]
  },
  {
   "cell_type": "code",
   "execution_count": 54,
   "metadata": {},
   "outputs": [],
   "source": [
    "# Optimize\n",
    "\n",
    "def exponential_dist_optimisation(data, distribution):\n",
    "\n",
    "    # Keep results for plotting\n",
    "    train_loss_results = []\n",
    "    train_rate_results = []\n",
    "    \n",
    "    optimizer = tf.keras.optimizers.SGD(learning_rate=0.05)\n",
    "\n",
    "    num_steps = 10\n",
    "\n",
    "    for i in range(num_steps):\n",
    "        loss, grads = get_loss_and_grads(data,distribution)\n",
    "        optimizer.apply_gradients(zip(grads, distribution.trainable_variables))\n",
    "        \n",
    "        rate_value = distribution.rate.value()\n",
    "        train_loss_results.append(loss)\n",
    "        train_rate_results.append(rate_value)\n",
    "        \n",
    "        print(\"Step {:03d}: Loss: {:.3f}: Rate: {:.3f}\".format(i,loss,rate_value))\n",
    "        \n",
    "    return train_loss_results, train_rate_results"
   ]
  },
  {
   "cell_type": "code",
   "execution_count": 55,
   "metadata": {},
   "outputs": [
    {
     "name": "stdout",
     "output_type": "stream",
     "text": [
      "Step 000: Loss: 3.319: Rate: 0.884\n",
      "Step 001: Loss: 3.057: Rate: 0.775\n",
      "Step 002: Loss: 2.826: Rate: 0.673\n",
      "Step 003: Loss: 2.630: Rate: 0.582\n",
      "Step 004: Loss: 2.472: Rate: 0.502\n",
      "Step 005: Loss: 2.355: Rate: 0.435\n",
      "Step 006: Loss: 2.276: Rate: 0.384\n",
      "Step 007: Loss: 2.232: Rate: 0.348\n",
      "Step 008: Loss: 2.211: Rate: 0.326\n",
      "Step 009: Loss: 2.203: Rate: 0.313\n"
     ]
    }
   ],
   "source": [
    "# Get some data and train\n",
    "\n",
    "sampled_data = exponential.sample(5000)\n",
    "train_loss_results, train_rate_results = exponential_dist_optimisation(data=sampled_data,distribution=exp_train)"
   ]
  },
  {
   "cell_type": "code",
   "execution_count": 56,
   "metadata": {},
   "outputs": [
    {
     "name": "stdout",
     "output_type": "stream",
     "text": [
      "Exact rate:  0.3\n",
      "Pred rate:   0.31343272\n"
     ]
    }
   ],
   "source": [
    "# Predicted value for the rate parameter\n",
    "\n",
    "pred_value = exp_train.rate.numpy()\n",
    "exact_value = exponential.rate.numpy()\n",
    "\n",
    "print(\"Exact rate: \", exact_value)\n",
    "print(\"Pred rate:  \", pred_value)"
   ]
  },
  {
   "cell_type": "code",
   "execution_count": 57,
   "metadata": {},
   "outputs": [
    {
     "data": {
      "image/png": "[encoded data removed]",
      "text/plain": [
       "<Figure size 864x576 with 2 Axes>"
      ]
     },
     "metadata": {
      "needs_background": "light"
     },
     "output_type": "display_data"
    }
   ],
   "source": [
    "# Plot to see the convergence of the estimated and true parameters\n",
    "\n",
    "tensor_exact_value = tf.constant(exact_value, shape=[len(train_rate_results)])\n",
    "\n",
    "fig, axes = plt.subplots(2, sharex=True, figsize=(12, 8))\n",
    "fig.suptitle('Convergence')\n",
    "\n",
    "axes[0].set_ylabel(\"Loss\", fontsize=14)\n",
    "axes[0].plot(train_loss_results)\n",
    "\n",
    "axes[1].set_ylabel(\"Rate\", fontsize=14)\n",
    "axes[1].set_xlabel(\"Epoch\", fontsize=14)\n",
    "axes[1].plot(train_rate_results, label='trainable rate variable')\n",
    "axes[1].plot(tensor_exact_value, label='exact rate')\n",
    "axes[1].legend()\n",
    "plt.show()"
   ]
  },
  {
   "cell_type": "code",
   "execution_count": 58,
   "metadata": {},
   "outputs": [],
   "source": [
    "# Making a function get_data which:\n",
    "#   1) Fetches the 20 newsgroup dataset\n",
    "#   2) Performs a word count on the articles and binarizes the result\n",
    "#   3) Returns the data as a numpy matrix with the labels\n",
    "\n",
    "def get_data(categories):\n",
    "\n",
    "    newsgroups_train_data = fetch_20newsgroups(data_home='20_Newsgroup_Data/',\n",
    "                                               subset='train', categories=categories)\n",
    "    newsgroups_test_data = fetch_20newsgroups(data_home='20_Newsgroup_Data/',\n",
    "                                              subset='test', categories=categories)\n",
    "\n",
    "    n_documents = len(newsgroups_train_data['data'])\n",
    "    count_vectorizer = CountVectorizer(input='content', binary=True,max_df=0.25, min_df=1.01/n_documents) \n",
    "    train_binary_bag_of_words = count_vectorizer.fit_transform(newsgroups_train_data['data']) \n",
    "    test_binary_bag_of_words = count_vectorizer.transform(newsgroups_test_data['data']) \n",
    "\n",
    "    return (train_binary_bag_of_words.todense(), newsgroups_train_data['target']),  (test_binary_bag_of_words.todense(), newsgroups_test_data['target'])\n"
   ]
  },
  {
   "cell_type": "code",
   "execution_count": 59,
   "metadata": {},
   "outputs": [],
   "source": [
    "# Defining a function to conduct laplace smoothing. This adds a base level of probability for a given feature\n",
    "# to occur in every class.\n",
    "\n",
    "def laplace_smoothing(labels, binary_data, n_classes):\n",
    "    # Compute the parameter estimates (adjusted fraction of documents in class that contain word)\n",
    "    n_words = binary_data.shape[1]\n",
    "    alpha = 1 # parameters for Laplace smoothing\n",
    "    theta = np.zeros([n_classes, n_words]) # stores parameter values - prob. word given class\n",
    "    for c_k in range(n_classes): # 0, 1, ..., 19\n",
    "        class_mask = (labels == c_k)\n",
    "        N = class_mask.sum() # number of articles in class\n",
    "        theta[c_k, :] = (binary_data[class_mask, :].sum(axis=0) + alpha)/(N + alpha*2)\n",
    "\n",
    "    return theta"
   ]
  },
  {
   "cell_type": "code",
   "execution_count": 60,
   "metadata": {},
   "outputs": [],
   "source": [
    "# Now we will do a function that given the feature occurence counts returns a Bernoulli distribution of \n",
    "# batch_shape=number of classes and event_shape=number of features.\n",
    "\n",
    "def make_distributions(probs):\n",
    "    batch_of_bernoullis = tfd.Bernoulli(probs=probs) # shape (n_classes, n_words)\n",
    "    dist = tfd.Independent(batch_of_bernoullis, reinterpreted_batch_ndims=1)\n",
    "    return dist"
   ]
  },
  {
   "cell_type": "code",
   "execution_count": 61,
   "metadata": {},
   "outputs": [],
   "source": [
    "# Function which computes the prior probability of every class based on frequency of occurence in \n",
    "# the dataset\n",
    "\n",
    "def class_priors(n_classes, labels):\n",
    "    counts = np.zeros(n_classes)\n",
    "    for c_k in range(n_classes):\n",
    "        counts[c_k] = np.sum(np.where(labels==c_k, 1, 0))\n",
    "    priors = counts / np.sum(counts)\n",
    "    print('The class priors are {}'.format(priors))\n",
    "    return priors"
   ]
  },
  {
   "cell_type": "code",
   "execution_count": 97,
   "metadata": {},
   "outputs": [
    {
     "name": "stdout",
     "output_type": "stream",
     "text": [
      "0.0 1.0 0.0\n",
      "(2, 3)\n",
      "1.791759469228055 tf.Tensor(1.7917595, shape=(), dtype=float32)\n",
      "[0.6931471805599453, 0.6931471805599453, 0.6931471805599453] tf.Tensor([0.6931472 0.6931472 0.6931472], shape=(3,), dtype=float32)\n"
     ]
    },
    {
     "data": {
      "text/plain": [
       "<tf.Tensor: shape=(), dtype=float32, numpy=1.7917595>"
      ]
     },
     "execution_count": 97,
     "metadata": {},
     "output_type": "execute_result"
    }
   ],
   "source": [
    "# Example of how reduce_logsumexp works\n",
    "# http://gregorygundersen.com/blog/2020/02/09/log-sum-exp/\n",
    "\n",
    "import math\n",
    "m = 0.\n",
    "v = m \n",
    "Ev = math.exp(v)\n",
    "LEv = math.log(Ev)\n",
    "print(v, Ev, LEv)\n",
    "\n",
    "x = tf.constant([[m, m, m], [m, m, m]])\n",
    "print(x.shape)\n",
    "print(math.log(6), tf.reduce_logsumexp(x))  # log(6)\n",
    "print([math.log(2), math.log(2), math.log(2)],tf.reduce_logsumexp(x, 0))# [log(2), log(2), log(2)]\n",
    "tf.reduce_logsumexp(x, 1)  # [log(3), log(3)]\n",
    "tf.reduce_logsumexp(x, 1, keepdims=True)  # [[log(3)], [log(3)]]\n",
    "tf.reduce_logsumexp(x, [0, 1])  # log(6)"
   ]
  },
  {
   "cell_type": "code",
   "execution_count": 62,
   "metadata": {},
   "outputs": [],
   "source": [
    "# The final function predict_sample which given the distribution, a test sample, and the class priors:\n",
    "#   1) Computes the class conditional probabilities given the sample\n",
    "#   2) Forms the joint likelihood\n",
    "#   3) Normalises the joint likelihood and returns the log prob\n",
    "\n",
    "def predict_sample(dist, sample, priors):\n",
    "    cond_probs = dist.log_prob(sample)\n",
    "    joint_likelihood = tf.add(np.log(priors), cond_probs)\n",
    "    norm_factor = tf.math.reduce_logsumexp(joint_likelihood, axis=-1, keepdims=True)\n",
    "    log_prob = joint_likelihood - norm_factor\n",
    "\n",
    "    return log_prob"
   ]
  },
  {
   "cell_type": "code",
   "execution_count": 70,
   "metadata": {},
   "outputs": [],
   "source": [
    "# Now we learn the distribution using gradient tape\n",
    "\n",
    "def make_distribution_withGT(data, labels, nb_classes):\n",
    "\n",
    "    class_data = []\n",
    "    train_vars = []\n",
    "    distributions = []\n",
    "    for c in range(nb_classes):\n",
    "        train_vars.append(tf.Variable(initial_value=np.random.uniform(low=0.01, high =0.1, size=data.shape[-1])))\n",
    "        distributions.append(tfd.Bernoulli(probs=train_vars[c]))\n",
    "        class_mask = (labels == c)\n",
    "        class_data.append(data[class_mask, :])\n",
    "\n",
    "    for c_num in range(0,nb_classes):\n",
    "        optimizer = tf.keras.optimizers.Adam()\n",
    "        print('\\n%-------------------%')\n",
    "        print('Class ', c_num)\n",
    "        print('%-------------------%')\n",
    "\n",
    "        for i in range(0,100):\n",
    "            loss, grads = get_loss_and_grads(class_data[c_num], distributions[c_num])\n",
    "            if(i%10==0):\n",
    "                print('iter: {} loss: {}'.format(i,loss))\n",
    "            optimizer.apply_gradients(zip(grads, distributions[c_num].trainable_variables))\n",
    "            eta = 1e-3\n",
    "            clipped_probs = tf.clip_by_value(distributions[c_num].trainable_variables,\n",
    "                                            clip_value_min=eta, clip_value_max=1)\n",
    "            train_vars[c_num] = tf.squeeze(clipped_probs)\n",
    "\n",
    "    dist = tfd.Bernoulli(probs=train_vars)\n",
    "    dist = tfd.Independent(dist,reinterpreted_batch_ndims=1)\n",
    "\n",
    "    print(dist)\n",
    "\n",
    "    return dist\n"
   ]
  },
  {
   "cell_type": "code",
   "execution_count": 71,
   "metadata": {},
   "outputs": [
    {
     "name": "stdout",
     "output_type": "stream",
     "text": [
      "The class priors are [0.2359882  0.28711898 0.29154376 0.18534907]\n"
     ]
    }
   ],
   "source": [
    "# Make the same Naive Bayes classifier we did last tutorial\n",
    "\n",
    "categories = ['alt.atheism', 'talk.religion.misc', 'comp.graphics', 'sci.space']\n",
    "\n",
    "(train_data, train_labels), (test_data, test_labels) = get_data(categories)\n",
    "\n",
    "smoothed_counts = laplace_smoothing(labels=train_labels, binary_data=train_data, n_classes=len(categories))\n",
    "\n",
    "priors = class_priors(n_classes=len(categories), labels=train_labels)\n",
    "tf_dist = make_distributions(smoothed_counts)"
   ]
  },
  {
   "cell_type": "code",
   "execution_count": 72,
   "metadata": {},
   "outputs": [
    {
     "name": "stdout",
     "output_type": "stream",
     "text": [
      "\n",
      "%-------------------%\n",
      "Class  0\n",
      "%-------------------%\n",
      "iter: 0 loss: 0.07861780026702292\n",
      "iter: 10 loss: 0.06921816107957232\n",
      "iter: 20 loss: nan\n",
      "iter: 30 loss: nan\n",
      "iter: 40 loss: nan\n",
      "iter: 50 loss: nan\n",
      "iter: 60 loss: nan\n",
      "iter: 70 loss: nan\n",
      "iter: 80 loss: nan\n",
      "iter: 90 loss: nan\n",
      "\n",
      "%-------------------%\n",
      "Class  1\n",
      "%-------------------%\n",
      "iter: 0 loss: 0.07146123476698758\n",
      "iter: 10 loss: 0.062127101359190404\n",
      "iter: 20 loss: nan\n",
      "iter: 30 loss: nan\n",
      "iter: 40 loss: nan\n",
      "iter: 50 loss: nan\n",
      "iter: 60 loss: nan\n",
      "iter: 70 loss: nan\n",
      "iter: 80 loss: nan\n",
      "iter: 90 loss: nan\n",
      "\n",
      "%-------------------%\n",
      "Class  2\n",
      "%-------------------%\n",
      "iter: 0 loss: 0.0783965008277944\n",
      "iter: 10 loss: 0.06929893274467498\n",
      "iter: 20 loss: nan\n",
      "iter: 30 loss: nan\n",
      "iter: 40 loss: nan\n",
      "iter: 50 loss: nan\n",
      "iter: 60 loss: nan\n",
      "iter: 70 loss: nan\n",
      "iter: 80 loss: nan\n",
      "iter: 90 loss: nan\n",
      "\n",
      "%-------------------%\n",
      "Class  3\n",
      "%-------------------%\n",
      "iter: 0 loss: 0.07957398248016542\n",
      "iter: 10 loss: 0.07030550291623114\n",
      "iter: 20 loss: nan\n",
      "iter: 30 loss: nan\n",
      "iter: 40 loss: nan\n",
      "iter: 50 loss: nan\n",
      "iter: 60 loss: nan\n",
      "iter: 70 loss: nan\n",
      "iter: 80 loss: nan\n",
      "iter: 90 loss: nan\n",
      "tfp.distributions.Independent(\"IndependentBernoulli\", batch_shape=[4], event_shape=[17495], dtype=int32)\n"
     ]
    }
   ],
   "source": [
    "# Now train the distributions with gradient tape\n",
    "\n",
    "GT_dist = make_distribution_withGT(data=train_data, labels=train_labels, nb_classes=4)"
   ]
  },
  {
   "cell_type": "code",
   "execution_count": 73,
   "metadata": {},
   "outputs": [
    {
     "name": "stdout",
     "output_type": "stream",
     "text": [
      "f1  0.8305418244733205\n",
      "f1  0.7848499112849504\n"
     ]
    }
   ],
   "source": [
    "# Compare the two results\n",
    "\n",
    "for dist in [GT_dist,tf_dist]:\n",
    "    probabilities = []\n",
    "    for sample, label in zip(test_data, test_labels):\n",
    "        probabilities.append(predict_sample(dist, sample, priors))\n",
    "\n",
    "    probabilities = np.asarray(probabilities)\n",
    "    predicted_classes = np.argmax(probabilities, axis =-1)\n",
    "    print('f1 ', f1_score(test_labels, predicted_classes, average='macro'))"
   ]
  },
  {
   "cell_type": "code",
   "execution_count": null,
   "metadata": {},
   "outputs": [],
   "source": []
  }
 ],
 "metadata": {
  "kernelspec": {
   "display_name": "Python 3",
   "language": "python",
   "name": "python3"
  },
  "language_info": {
   "codemirror_mode": {
    "name": "ipython",
    "version": 3
   },
   "file_extension": ".py",
   "mimetype": "text/x-python",
   "name": "python",
   "nbconvert_exporter": "python",
   "pygments_lexer": "ipython3",
   "version": "3.7.7"
  }
 },
 "nbformat": 4,
 "nbformat_minor": 4
}
